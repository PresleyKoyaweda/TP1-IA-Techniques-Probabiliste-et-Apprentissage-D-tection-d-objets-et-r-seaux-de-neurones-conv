{
  "cells": [
    {
      "cell_type": "markdown",
      "metadata": {
        "id": "OAHWMYJv4xuc"
      },
      "source": [
        "# INF8225 TP1 H25 (v2.0)"
      ]
    },
    {
      "cell_type": "markdown",
      "metadata": {
        "id": "qV-6EDgXO-S9"
      },
      "source": [
        "Gervais Presley - KOYAWEDA / Matricule 2305686\n",
        "\n",
        "Partie 3 réalisée: [seul(e)]\n",
        "ou avec\n",
        "[Prénom - NOM -\n",
        "Matricule ########]\n",
        "\n",
        "Date limite :\n",
        "\n",
        "20h30 le 6 février 2025 (Partie 1 et 2)\n",
        "\n",
        "20h30 le 20 février 2025 (Partie 3)\n",
        "\n",
        "Remettez votre fichier Colab sur Moodle en 2 formats: **.pdf** ET **.ipynb**"
      ]
    },
    {
      "cell_type": "markdown",
      "metadata": {
        "id": "Jo2CPniBeytl"
      },
      "source": [
        "**Comment utiliser**:\n",
        "\n",
        "Il faut copier ce notebook dans vos dossiers pour avoir une version que vous pouvez modifier, voici deux façons de le faire:\n",
        "* File / Save a copy in Drive ...\n",
        "* File / Download .ipynb\n",
        "\n",
        "**Pour utiliser un GPU**\n",
        "\n",
        "Runtime / Change Runtime Type / Hardware Accelerator / GPU"
      ]
    },
    {
      "cell_type": "markdown",
      "metadata": {
        "id": "pCGh-NNm47Tk"
      },
      "source": [
        "# Partie 1 (16 points)\n",
        "\n"
      ]
    },
    {
      "cell_type": "markdown",
      "metadata": {
        "id": "r7tkIgu75Ccd"
      },
      "source": [
        "## Objectif\n",
        "L’objectif de la Partie 1 du travail pratique est de permettre à l’étudiant de se familiariser avec les réseaux Bayésiens et la librairie Numpy."
      ]
    },
    {
      "cell_type": "markdown",
      "metadata": {
        "id": "iongVT7XRegv"
      },
      "source": [
        "## Problème\n"
      ]
    },
    {
      "cell_type": "markdown",
      "metadata": {
        "id": "tdKetLE0hVev"
      },
      "source": [
        "Considérons le réseau Bayésien ci-dessous.\n",
        "\n",
        "<img src=\"https://drive.google.com/uc?id=1QCJSfYGLJVg2-0_BO8BEHCnMEDsHSR6k\" alt=\"bayes_net\" width=\"600\"/>\n",
        "\n",
        "Ceci représente un modèle simple pour les notes à un examen (G) et sa relation avec les étudiants qui se préparent aux examens et font correctement le travail pour les devoirs (S), les étudiants qui ont des difficultés dans la vie juste avant l'examen final (D), les étudiants qui réussissent bien à un entretien technique pour un emploi axé sur le sujet du cours (R), et des étudiants qui se retrouvent sur une sorte de palmarès de leur programme (L)."
      ]
    },
    {
      "cell_type": "markdown",
      "metadata": {
        "id": "Twz4slZ9DY6n"
      },
      "source": [
        "## Trucs et astuces\n",
        "Nous utiliserons des vecteurs multidimensionnels `5d-arrays` dont les `axes` représentent:\n",
        "```\n",
        "axe 0 : Se préparer (S)\n",
        "axe 1 : Difficultés avant l'exam (D)\n",
        "axe 2 : Réussir l'entretien technique (R)\n",
        "axe 3 : Note dans le cours (Grade) (G)\n",
        "axe 4 : Liste d'honneur (L)\n",
        "```\n",
        "\n",
        "Chaque `axe` serait de dimension `2` ou `3`:\n",
        "```\n",
        "Exemple pour S:\n",
        "0 : s0\n",
        "1 : s1\n",
        "\n",
        "Exemple pour G:\n",
        "0 : g0\n",
        "1 : g1\n",
        "2 : g2\n",
        "```\n",
        "Quelques point à garder en tête:\n",
        "- Utiliser la jointe comme point de départ pour vos calculs (ne pas développer tous les termes à la main).\n",
        "- Attention à l'effet du do-operator sur le graphe.\n",
        "- L'argument \"keepdims=True\" de \"np.sum()\" vous permet conserver les mêmes indices.\n",
        "- Pour un rappel sur les probabilités conditionelles, voir: https://www.probabilitycourse.com/chapter1/1_4_0_conditional_probability.php"
      ]
    },
    {
      "cell_type": "markdown",
      "metadata": {
        "id": "EUjUNqVcTEXP"
      },
      "source": [
        "## 1. Complétez les tables de probabilités ci-dessous"
      ]
    },
    {
      "cell_type": "code",
      "execution_count": 20,
      "metadata": {
        "colab": {
          "base_uri": "https://localhost:8080/"
        },
        "id": "D-rxnQmCCCPa",
        "outputId": "7a8a7eb9-4597-486b-a1b6-35ec83e5003d"
      },
      "outputs": [
        {
          "output_type": "stream",
          "name": "stdout",
          "text": [
            "Pr(S)=\n",
            "[0.2 0.8]\n",
            "\n",
            "Pr(D)=\n",
            "[0.9 0.1]\n",
            "\n",
            "Pr(R|S)=\n",
            "[[0.9 0.1]\n",
            " [0.2 0.8]]\n",
            "\n",
            "Pr(G|S,D)=\n",
            "[[[0.5  0.3  0.2 ]\n",
            "  [0.9  0.08 0.02]]\n",
            "\n",
            " [[0.1  0.2  0.7 ]\n",
            "  [0.3  0.4  0.3 ]]]\n",
            "\n",
            "Pr(L|G)=\n",
            "[[0.9  0.1 ]\n",
            " [0.6  0.4 ]\n",
            " [0.01 0.99]]\n",
            "\n"
          ]
        }
      ],
      "source": [
        "import numpy as np\n",
        "np.set_printoptions(precision=5)\n",
        "\n",
        "# Les tableaux sont bâtis avec les dimensions (S, D, R, G, L)\n",
        "# et chaque dimension avec les probablités associées aux 2 ou 3 valeurs possibles ({0, 1} ou {0, 1, 2})\n",
        "\n",
        "Pr_S = np.array([0.2, 0.8]).reshape(2, 1, 1, 1, 1) # Donné en exemple\n",
        "Pr_D = np.array([0.9, 0.1]).reshape(1, 2, 1, 1, 1) # TODO\n",
        "Pr_R_given_S = np.array([[0.9, 0.1],[0.2, 0.8]]).reshape(2, 1, 2, 1, 1) # TODO\n",
        "Pr_G_given_SD = np.array([\n",
        "    [0.5, 0.3, 0.2],\n",
        "    [0.9, 0.08, 0.02],\n",
        "    [0.1, 0.2, 0.7],\n",
        "    [0.3, 0.4, 0.3]\n",
        "]).reshape(2, 2, 1, 3, 1)  # TODO\n",
        "Pr_L_given_G = np.array([\n",
        "            [0.9, 0.1],\n",
        "            [0.6, 0.4],\n",
        "            [0.01, 0.99]\n",
        "]).reshape(1, 1, 1, 3, 2) # TODO\n",
        "\n",
        "print (f\"Pr(S)=\\n{np.squeeze(Pr_S)}\\n\")\n",
        "print (f\"Pr(D)=\\n{np.squeeze(Pr_D)}\\n\")\n",
        "print (f\"Pr(R|S)=\\n{np.squeeze(Pr_R_given_S)}\\n\")\n",
        "print (f\"Pr(G|S,D)=\\n{np.squeeze(Pr_G_given_SD)}\\n\")\n",
        "print (f\"Pr(L|G)=\\n{np.squeeze(Pr_L_given_G)}\\n\")"
      ]
    },
    {
      "cell_type": "markdown",
      "metadata": {
        "id": "PHD6DX-nS6Qt"
      },
      "source": [
        "## 2. À l'aide de ces tables de probabilité conditionnelles, calculez les requêtes ci-dessous. Dans les cas où l'on compare un calcul non interventionnel à un calcul interventionnel, commentez sur l'interprétation physique des deux situations et les résultats obtenus à partir de vos modèles."
      ]
    },
    {
      "cell_type": "markdown",
      "metadata": {
        "id": "f-vXI0O279sX"
      },
      "source": [
        "a) $Pr(G) = [P (G = g^0), P (G = g^1), P (G = g^2)]$"
      ]
    },
    {
      "cell_type": "code",
      "execution_count": 21,
      "metadata": {
        "colab": {
          "base_uri": "https://localhost:8080/"
        },
        "id": "lXWtZDsv791d",
        "outputId": "ec7bd5b0-0e43-4fdb-cf7d-562a3ef364da"
      },
      "outputs": [
        {
          "output_type": "stream",
          "name": "stdout",
          "text": [
            "Pr(G)=[0.204  0.2316 0.5644]\n"
          ]
        }
      ],
      "source": [
        "answer_a = np.zeros(3)\n",
        "for s in range(2):\n",
        "  for d in range(2):\n",
        "    answer_a += Pr_S[s, 0, 0, 0] * Pr_D[0, d, 0, 0] * Pr_G_given_SD[s, d, 0, :, 0] #TODO\n",
        "print(f\"Pr(G)={answer_a}\")"
      ]
    },
    {
      "cell_type": "markdown",
      "metadata": {
        "id": "k7fla36P79_G"
      },
      "source": [
        "b) $Pr(G|R = r^1)$"
      ]
    },
    {
      "cell_type": "code",
      "execution_count": 22,
      "metadata": {
        "colab": {
          "base_uri": "https://localhost:8080/"
        },
        "id": "1Jp2AGLa7-H_",
        "outputId": "b3330b83-bf4a-4fac-ff72-0c263e2598fe"
      },
      "outputs": [
        {
          "output_type": "stream",
          "name": "stdout",
          "text": [
            "Pr(G|R=r1)=[0.13273 0.22176 0.64552]\n"
          ]
        }
      ],
      "source": [
        "answer_b = np.zeros(3)  # Pour P(G | R = r^1)\n",
        "norm_factor_b = 0  # Facteur de normalisation\n",
        "\n",
        "for s in range(2):  # Somme sur S\n",
        "    for d in range(2):  # Somme sur D\n",
        "        # Numérateur\n",
        "        prob = (\n",
        "            Pr_S[s, 0, 0, 0, 0] *       # P(S = s)\n",
        "            Pr_D[0, d, 0, 0, 0] *       # P(D = d)\n",
        "            Pr_R_given_S[s, 0, 1, 0, 0] *  # P(R = r^1 | S = s)\n",
        "            Pr_G_given_SD[s, d, 0, :, 0]   # P(G | S, D)\n",
        "        )\n",
        "        answer_b += prob\n",
        "\n",
        "        # Dénominateur\n",
        "        norm_factor_b += (\n",
        "            Pr_S[s, 0, 0, 0, 0] *       # P(S = s)\n",
        "            Pr_D[0, d, 0, 0, 0] *       # P(D = d)\n",
        "            Pr_R_given_S[s, 0, 1, 0, 0]    # P(R = r^1 | S = s)\n",
        "        )\n",
        "\n",
        "# Normalisation\n",
        "answer_b /= norm_factor_b\n",
        "\n",
        "print(f\"Pr(G|R=r1)={answer_b}\")\n"
      ]
    },
    {
      "cell_type": "markdown",
      "metadata": {
        "id": "O8mt03aX7-WC"
      },
      "source": [
        "c)  $Pr(G|R = r^0)$"
      ]
    },
    {
      "cell_type": "code",
      "execution_count": 23,
      "metadata": {
        "colab": {
          "base_uri": "https://localhost:8080/"
        },
        "id": "CCxSweb67-dx",
        "outputId": "0bcd8af4-4d40-4ea3-f962-c610b44afdf1"
      },
      "outputs": [
        {
          "output_type": "stream",
          "name": "stdout",
          "text": [
            "Pr(G|R=r0)=[0.34235 0.25071 0.40694]\n"
          ]
        }
      ],
      "source": [
        "answer_c = np.zeros(3)  # Pour P(G | R = r^0)\n",
        "norm_factor_c = 0  # Facteur de normalisation\n",
        "\n",
        "for s in range(2):  # Somme sur S\n",
        "    for d in range(2):  # Somme sur D\n",
        "        # Numérateur\n",
        "        prob = (\n",
        "            Pr_S[s, 0, 0, 0, 0] *       # P(S = s)\n",
        "            Pr_D[0, d, 0, 0, 0] *       # P(D = d)\n",
        "            Pr_R_given_S[s, 0, 0, 0, 0] *  # P(R = r^0 | S = s)\n",
        "            Pr_G_given_SD[s, d, 0, :, 0]   # P(G | S, D)\n",
        "        )\n",
        "        answer_c += prob\n",
        "\n",
        "        # Dénominateur\n",
        "        norm_factor_c += (\n",
        "            Pr_S[s, 0, 0, 0, 0] *       # P(S = s)\n",
        "            Pr_D[0, d, 0, 0, 0] *       # P(D = d)\n",
        "            Pr_R_given_S[s, 0, 0, 0, 0]    # P(R = r^0 | S = s)\n",
        "        )\n",
        "\n",
        "# Normalisation\n",
        "answer_c /= norm_factor_c\n",
        "\n",
        "print(f\"Pr(G|R=r0)={answer_c}\")"
      ]
    },
    {
      "cell_type": "markdown",
      "metadata": {
        "id": "dSK8ulij7-m0"
      },
      "source": [
        "d) $Pr(G|R=r^1, S=s^0)$"
      ]
    },
    {
      "cell_type": "code",
      "execution_count": 24,
      "metadata": {
        "colab": {
          "base_uri": "https://localhost:8080/"
        },
        "id": "cliFsd8f7-vC",
        "outputId": "f45572fc-54a5-4654-986f-9663ce81d520"
      },
      "outputs": [
        {
          "output_type": "stream",
          "name": "stdout",
          "text": [
            "Pr(G|R=r1, S=s0)=[0.54  0.278 0.182]\n"
          ]
        }
      ],
      "source": [
        "answer_d = np.zeros(3)  # Pour Pr(G|R=r1, S=s0)\n",
        "s = 0  # S = s0\n",
        "r = 1  # R = r1\n",
        "\n",
        "# Calcul du numérateur\n",
        "for d in range(2):  # D peut être d0 ou d1\n",
        "    prob = (\n",
        "        Pr_G_given_SD[s, d, 0, :, 0] *  # P(G | S=s0, D=d)\n",
        "        Pr_D[0, d, 0, 0, 0]  # P(D=d)\n",
        "    )\n",
        "    answer_d += prob\n",
        "\n",
        "# Multiplication par P(R=r1 | S=s0)\n",
        "answer_d *= Pr_R_given_S[s, 0, r, 0, 0]\n",
        "\n",
        "# Normalisation pour obtenir une probabilité valide\n",
        "answer_d /= np.sum(answer_d)  # Garantit que la somme des probabilités est égale à 1\n",
        "\n",
        "# Affichage du résultat\n",
        "print(f\"Pr(G|R=r1, S=s0)={answer_d}\")"
      ]
    },
    {
      "cell_type": "markdown",
      "metadata": {
        "id": "zffAAOW67-5I"
      },
      "source": [
        "e) $Pr(G|R=r^0, S=s^0)$"
      ]
    },
    {
      "cell_type": "code",
      "execution_count": 25,
      "metadata": {
        "colab": {
          "base_uri": "https://localhost:8080/"
        },
        "id": "9zyt7TeB7_CD",
        "outputId": "803eb085-e168-4bee-8f25-d646b5914714"
      },
      "outputs": [
        {
          "output_type": "stream",
          "name": "stdout",
          "text": [
            "Pr(G|R=r0, S=s0)=[0.54  0.278 0.182]\n"
          ]
        }
      ],
      "source": [
        "answer_e = np.zeros(3)  # Pour P(G | R = r0, S = s0)\n",
        "s = 0  # S = s0\n",
        "r = 0  # R = r0\n",
        "\n",
        "# Calcul du numérateur\n",
        "for d in range(2):  # D peut être d0 ou d1\n",
        "    prob = (\n",
        "        Pr_G_given_SD[s, d, 0, :, 0] *  # P(G | S = s0, D = d)\n",
        "        Pr_D[0, d, 0, 0, 0]  # P(D = d)\n",
        "    )\n",
        "    answer_e += prob\n",
        "\n",
        "# Multiplication par P(S = s0) * P(R = r0 | S = s0)\n",
        "numerator = answer_e * Pr_S[s, 0, 0, 0, 0] * Pr_R_given_S[s, 0, r, 0, 0]\n",
        "\n",
        "# Dénominateur\n",
        "denominator = Pr_S[s, 0, 0, 0, 0] * Pr_R_given_S[s, 0, r, 0, 0]\n",
        "\n",
        "# Calcul final (division)\n",
        "answer_e = numerator / denominator\n",
        "\n",
        "# Affichage\n",
        "print(f\"Pr(G|R=r0, S=s0)={answer_e}\")"
      ]
    },
    {
      "cell_type": "markdown",
      "metadata": {
        "id": "PeIkZjn47_LZ"
      },
      "source": [
        "f) $Pr(R|D=d^1)$"
      ]
    },
    {
      "cell_type": "code",
      "execution_count": 26,
      "metadata": {
        "colab": {
          "base_uri": "https://localhost:8080/"
        },
        "id": "Yscy5bf27_Sq",
        "outputId": "1ca8b023-0689-4e1e-ef65-4f2d1b599a64"
      },
      "outputs": [
        {
          "output_type": "stream",
          "name": "stdout",
          "text": [
            "Pr(R|D=d1)=[0.34 0.66]\n"
          ]
        }
      ],
      "source": [
        "answer_f = np.zeros(2) # TODO\n",
        "\n",
        "# Numérateur : Pr(R, D=d1)\n",
        "for s in range(2):  # Somme sur S\n",
        "    prob_r_d = (\n",
        "        Pr_R_given_S[s, 0, :] *  # P(R|S=s)\n",
        "        Pr_S[s, 0, 0, 0, 0] *    # P(S=s)\n",
        "        Pr_D[0, 1, 0, 0, 0]      # P(D=d1)\n",
        "    )\n",
        "    # Redimensionner prob_r_d pour s'assurer que ses dimensions sont compatibles avec answer_f\n",
        "    answer_f += np.squeeze(prob_r_d)\n",
        "\n",
        "# Dénominateur : Pr(D=d1)\n",
        "Pr_D_d1 = np.sum(answer_f)  # La somme sur R donne P(D=d1)\n",
        "\n",
        "# Normalisation pour obtenir Pr(R|D=d1)\n",
        "answer_f /= Pr_D_d1\n",
        "\n",
        "print(f\"Pr(R|D=d1)={answer_f}\")"
      ]
    },
    {
      "cell_type": "markdown",
      "metadata": {
        "id": "XbV8cFjU8TxQ"
      },
      "source": [
        "g) $Pr(R|D=d^0)$"
      ]
    },
    {
      "cell_type": "code",
      "execution_count": 27,
      "metadata": {
        "colab": {
          "base_uri": "https://localhost:8080/"
        },
        "id": "7jBgoNDz8T6z",
        "outputId": "62269f58-18db-4762-9d3a-eea544efa2fb"
      },
      "outputs": [
        {
          "output_type": "stream",
          "name": "stdout",
          "text": [
            "Pr(R|D=d0)=[0.34 0.66]\n"
          ]
        }
      ],
      "source": [
        "answer_g = np.zeros(2) # TODO\n",
        "\n",
        "# Numérateur : Pr(R, D=d0)\n",
        "for s in range(2):  # Somme sur S\n",
        "    prob_r_d = (\n",
        "        Pr_R_given_S[s, 0, :] *  # P(R|S=s)\n",
        "        Pr_S[s, 0, 0, 0, 0] *    # P(S=s)\n",
        "        Pr_D[0, 0, 0, 0, 0]      # P(D=d0)\n",
        "    )\n",
        "\n",
        "    answer_g += np.squeeze(prob_r_d)\n",
        "\n",
        "# Dénominateur : Pr(D=d0)\n",
        "Pr_D_d0 = np.sum(answer_g)  # La somme sur R donne P(D=d0)\n",
        "\n",
        "# Normalisation pour obtenir Pr(R|D=d0)\n",
        "answer_g /= Pr_D_d0\n",
        "\n",
        "print(f\"Pr(R|D=d0)={answer_g}\")"
      ]
    },
    {
      "cell_type": "markdown",
      "metadata": {
        "id": "05xm-VaW8UQh"
      },
      "source": [
        "h) $Pr(R|D=d^1, G=g^2)$"
      ]
    },
    {
      "cell_type": "code",
      "execution_count": 28,
      "metadata": {
        "colab": {
          "base_uri": "https://localhost:8080/"
        },
        "id": "shjD8GIL8UZV",
        "outputId": "06c8abe2-f41a-4ce9-dec0-f9b4e46b61bf"
      },
      "outputs": [
        {
          "output_type": "stream",
          "name": "stdout",
          "text": [
            "Pr(R|D=d1, G=g2)=[0.21148 0.78852]\n"
          ]
        }
      ],
      "source": [
        "answer_h = np.zeros(2) # TODO\n",
        "\n",
        "# Numérateur : Pr(R, D=d1, G=g2)\n",
        "for s in range(2):  # Somme sur S\n",
        "    prob_r_d_g = (\n",
        "        Pr_R_given_S[s, 0, :] *  # P(R|S=s)\n",
        "        Pr_S[s, 0, 0, 0, 0] *    # P(S=s)\n",
        "        Pr_D[0, 1, 0, 0, 0] *    # P(D=d1)\n",
        "        Pr_G_given_SD[s, 1, 0, 2, 0]  # P(G=g2|S=s, D=d1)\n",
        "    )\n",
        "\n",
        "    answer_h += np.squeeze(prob_r_d_g)\n",
        "\n",
        "# Dénominateur : Pr(D=d1, G=g2)\n",
        "Pr_D_G = np.sum(answer_h)  # La somme sur R donne P(D=d1, G=g2)\n",
        "\n",
        "# Normalisation\n",
        "answer_h /= Pr_D_G\n",
        "\n",
        "print(f\"Pr(R|D=d1, G=g2)={answer_h}\")"
      ]
    },
    {
      "cell_type": "markdown",
      "metadata": {
        "id": "9i2ahKAj8Umu"
      },
      "source": [
        "i) $Pr(R|D=d^0, G=g^2)$"
      ]
    },
    {
      "cell_type": "code",
      "execution_count": 29,
      "metadata": {
        "colab": {
          "base_uri": "https://localhost:8080/"
        },
        "id": "2nLKd4c18UuA",
        "outputId": "f007e5d0-d492-418a-dc39-8ce2fc904b96"
      },
      "outputs": [
        {
          "output_type": "stream",
          "name": "stdout",
          "text": [
            "Pr(R|D=d0, G=g2)=[0.24667 0.75333]\n"
          ]
        }
      ],
      "source": [
        "# Initialisation du vecteur pour Pr(R|D=d0, G=g2) avec R = {r0, r1}\n",
        "answer_i = np.zeros(2)\n",
        "\n",
        "# Numérateur : Pr(R, D=d0, G=g2)\n",
        "for s in range(2):  # Somme sur S\n",
        "    # Calcul de Pr(R, D=d0, G=g2) pour chaque valeur de S\n",
        "    prob_r_d_g = (\n",
        "        np.squeeze(Pr_R_given_S[s, 0, :]) *  # P(R|S=s), vecteur de taille (2,)\n",
        "        Pr_S[s, 0, 0, 0, 0] *                # P(S=s), scalaire\n",
        "        Pr_D[0, 0, 0, 0, 0] *                # P(D=d0), scalaire\n",
        "        Pr_G_given_SD[s, 0, 0, 2, 0]         # P(G=g2|S=s, D=d0), scalaire\n",
        "    )\n",
        "\n",
        "    # Ajout de la contribution au numérateur\n",
        "    answer_i += prob_r_d_g.reshape(-1)  # Aplatir en un vecteur unidimensionnel si nécessaire\n",
        "\n",
        "# Dénominateur : Pr(D=d0, G=g2)\n",
        "proba_d_g = np.sum(answer_i)  # La somme sur R donne Pr(D=d0, G=g2)\n",
        "\n",
        "# Normalisation pour obtenir Pr(R|D=d0, G=g2)\n",
        "answer_i /= proba_d_g\n",
        "\n",
        "print(f\"Pr(R|D=d0, G=g2)={answer_i}\")"
      ]
    },
    {
      "cell_type": "markdown",
      "metadata": {
        "id": "iUc0EpO18eA-"
      },
      "source": [
        "j) $Pr(R|D=d^1, L=l^1)$"
      ]
    },
    {
      "cell_type": "code",
      "execution_count": 30,
      "metadata": {
        "colab": {
          "base_uri": "https://localhost:8080/"
        },
        "id": "mgDLu0nJ8eM2",
        "outputId": "1c0368d0-4e07-491c-8b96-d250bcc27505"
      },
      "outputs": [
        {
          "output_type": "stream",
          "name": "stdout",
          "text": [
            "Pr(R|D=d1, L=l1)=[0.2475 0.7525]\n"
          ]
        }
      ],
      "source": [
        "answer_j = np.zeros(2) # TODO\n",
        "\n",
        "#Numérateur : Pr(R, D=d1, L=l1)\n",
        "numerator_j=np.zeros(2)\n",
        "for s in range(2):\n",
        "  for g in range(3):\n",
        "    proba_r_d_l=(\n",
        "        Pr_R_given_S[s,0,:]*\n",
        "        Pr_S[s,0,0,0,0]*\n",
        "        Pr_D[0,1,0,0,0]*\n",
        "        Pr_G_given_SD[s, 1, 0, g, 0]* # P(G=g|S=s, D=d1)\n",
        "        Pr_L_given_G[0,0,0,g,1] # P(L=l1|G=g)\n",
        "    )\n",
        "    numerator_j +=np.squeeze(proba_r_d_l)\n",
        "\n",
        "# dénominateur : Pr(D=d1, L=l1)\n",
        "denominator_j=np.sum(numerator_j) #Somme sur R\n",
        "\n",
        "#Normalisation\n",
        "answer_j=numerator_j/denominator_j\n",
        "\n",
        "\n",
        "print(f\"Pr(R|D=d1, L=l1)={answer_j}\")"
      ]
    },
    {
      "cell_type": "markdown",
      "metadata": {
        "id": "G2rCcDgyuo5c"
      },
      "source": [
        "k) $Pr(R|D=d^0, L=l^1)$"
      ]
    },
    {
      "cell_type": "code",
      "execution_count": 31,
      "metadata": {
        "colab": {
          "base_uri": "https://localhost:8080/"
        },
        "id": "dpt2RPQqvHbj",
        "outputId": "df32325f-934a-42d0-cb0b-b600134107f1"
      },
      "outputs": [
        {
          "output_type": "stream",
          "name": "stdout",
          "text": [
            "Pr(R|D=d0, L=l1)=[0.2736 0.7264]\n"
          ]
        }
      ],
      "source": [
        "answer_k = np.zeros(2)  # Pour Pr(R|D=d0, L=l1)\n",
        "\n",
        "# Numérateur : Pr(R, D=d0, L=l1)\n",
        "numerator_k = np.zeros(2)\n",
        "for s in range(2):  # Somme sur S\n",
        "    for g in range(3):  # Somme sur G\n",
        "        proba_r_d_l = (\n",
        "            Pr_R_given_S[s, 0, :] *         # P(R|S=s)\n",
        "            Pr_S[s, 0, 0, 0, 0] *           # P(S=s)\n",
        "            Pr_D[0, 0, 0, 0, 0] *           # P(D=d0)\n",
        "            Pr_G_given_SD[s, 0, 0, g, 0] *  # P(G=g|S=s, D=d0)\n",
        "            Pr_L_given_G[0, 0, 0, g, 1]     # P(L=l1|G=g)\n",
        "        )\n",
        "        numerator_k += np.squeeze(proba_r_d_l)\n",
        "\n",
        "# Dénominateur : Pr(D=d0, L=l1)\n",
        "denominator_k = np.sum(numerator_k)  # La somme sur R donne Pr(D=d0, L=l1)\n",
        "\n",
        "# Normalisation pour obtenir Pr(R|D=d0, L=l1)\n",
        "answer_k = numerator_k / denominator_k\n",
        "\n",
        "# Affichage des résultats\n",
        "print(f\"Pr(R|D=d0, L=l1)={answer_k}\")"
      ]
    },
    {
      "cell_type": "markdown",
      "metadata": {
        "id": "eiHUsWItvL2p"
      },
      "source": [
        "l) $Pr(R|do(G=g^2))$"
      ]
    },
    {
      "cell_type": "code",
      "execution_count": 32,
      "metadata": {
        "colab": {
          "base_uri": "https://localhost:8080/"
        },
        "id": "ag5OS3B_vT35",
        "outputId": "cacc89f6-32de-48a0-b8ff-1cf9b97c8258"
      },
      "outputs": [
        {
          "output_type": "stream",
          "name": "stdout",
          "text": [
            "Pr(R|do(G=g2))=[0.34 0.66]\n"
          ]
        }
      ],
      "source": [
        "answer_l = np.zeros(2)\n",
        "\n",
        "for s in range(2):  # Parcours des états de S\n",
        "    for d in range(2):  # Parcours des états de D\n",
        "        prob_r_do_g = (\n",
        "            Pr_R_given_S[s, 0, :] *  # P(R|S=s)\n",
        "            Pr_S[s, 0, 0, 0, 0])     # P(S=s)\n",
        "\n",
        "        answer_l += np.squeeze(prob_r_do_g)\n",
        "\n",
        "# Normalisation pour garantir que la somme des probabilités est 1\n",
        "answer_l /= np.sum(answer_l)\n",
        "\n",
        "print(f\"Pr(R|do(G=g2))={answer_l}\")\n"
      ]
    },
    {
      "cell_type": "markdown",
      "metadata": {
        "id": "Dm1JoSs51P6l"
      },
      "source": [
        "m) $Pr(R|G=g^2)$"
      ]
    },
    {
      "cell_type": "code",
      "execution_count": 33,
      "metadata": {
        "colab": {
          "base_uri": "https://localhost:8080/"
        },
        "id": "8lT5Bhwm1Vca",
        "outputId": "3b18007d-cb42-4743-c75c-43d7b5880d27"
      },
      "outputs": [
        {
          "output_type": "stream",
          "name": "stdout",
          "text": [
            "Pr(R|G=g2)=[0.24515 0.75485]\n"
          ]
        }
      ],
      "source": [
        "numerator_m = np.zeros(2)\n",
        "denominator_m = 0          # Pr(G=g2)\n",
        "\n",
        "# Calcul du numérateur et du dénominateur\n",
        "for s in range(2):\n",
        "    for d in range(2):\n",
        "        prob_r_g = (\n",
        "            Pr_R_given_S[s, 0, :] *  # P(R|S=s)\n",
        "            Pr_S[s, 0, 0, 0, 0] *    # P(S=s)\n",
        "            Pr_D[0, d, 0, 0, 0] *    # P(D=d)\n",
        "            Pr_G_given_SD[s, d, 0, 2, 0]  # P(G=g2|S=s, D=d)\n",
        "        )\n",
        "        # Ajout au numérateur\n",
        "        numerator_m += np.squeeze(prob_r_g)\n",
        "\n",
        "        # Ajout au dénominateur (somme sur R pour Pr(G=g2))\n",
        "        denominator_m += np.sum(prob_r_g)\n",
        "\n",
        "# Normalisation : Pr(R|G=g2)\n",
        "answer_m = numerator_m / denominator_m\n",
        "\n",
        "print(f\"Pr(R|G=g2)={answer_m}\")"
      ]
    },
    {
      "cell_type": "code",
      "source": [
        "Pr_G = np.sum(Pr_G_given_SD * Pr_S * Pr_D, axis=(0,1), keepdims=True)\n",
        "answer_l = answer_b\n",
        "print(f\"Pr(R|do(G=g2))={np.squeeze(answer_l)}\")"
      ],
      "metadata": {
        "colab": {
          "base_uri": "https://localhost:8080/"
        },
        "id": "4_Ypm4pta5f5",
        "outputId": "520a6228-8720-4dc0-8cc8-af869a66e57a"
      },
      "execution_count": 34,
      "outputs": [
        {
          "output_type": "stream",
          "name": "stdout",
          "text": [
            "Pr(R|do(G=g2))=[0.13273 0.22176 0.64552]\n"
          ]
        }
      ]
    },
    {
      "cell_type": "markdown",
      "metadata": {
        "id": "2yAntka31ZDh"
      },
      "source": [
        "n) $Pr(R)$"
      ]
    },
    {
      "cell_type": "code",
      "execution_count": 35,
      "metadata": {
        "colab": {
          "base_uri": "https://localhost:8080/"
        },
        "id": "3156HkiD1mNe",
        "outputId": "f9a8549d-b4be-47f5-ae9f-27a581138743"
      },
      "outputs": [
        {
          "output_type": "stream",
          "name": "stdout",
          "text": [
            "Pr(R)=[0.34 0.66]\n"
          ]
        }
      ],
      "source": [
        "answer_n = np.zeros(2)  # Pour R = {r0, r1}\n",
        "\n",
        "for s in range(2):  # S = {s0, s1}\n",
        "    prob_r = (\n",
        "        Pr_R_given_S[s, 0, :] *  # P(R|S=s)\n",
        "        Pr_S[s, 0, 0, 0, 0]      # P(S=s)\n",
        "    )\n",
        "    # Ajout de la contribution pour chaque S\n",
        "    answer_n += np.squeeze(prob_r)\n",
        "\n",
        "print(f\"Pr(R)={answer_n}\")"
      ]
    },
    {
      "cell_type": "markdown",
      "metadata": {
        "id": "wR0NIlpE1dni"
      },
      "source": [
        "o) $Pr(G|do(L=l^1))$"
      ]
    },
    {
      "cell_type": "code",
      "execution_count": 36,
      "metadata": {
        "colab": {
          "base_uri": "https://localhost:8080/"
        },
        "id": "N_SfC2CJ1bb7",
        "outputId": "76878bfe-7919-4a5e-aecb-a2635d3684da"
      },
      "outputs": [
        {
          "output_type": "stream",
          "name": "stdout",
          "text": [
            "Pr(G|do(L=l1))=[0.204  0.2316 0.5644]\n"
          ]
        }
      ],
      "source": [
        "answer_o = np.zeros(3)  # Pour G = {g0, g1, g2}\n",
        "\n",
        "# Numérateur : Calcul de Pr(G)\n",
        "for s in range(2):  # S = {s0, s1}\n",
        "    for d in range(2):  # D = {d0, d1}\n",
        "        prob_g = (\n",
        "            Pr_S[s, 0, 0, 0, 0] *       # P(S=s)\n",
        "            Pr_D[0, d, 0, 0, 0] *       # P(D=d)\n",
        "            Pr_G_given_SD[s, d, 0, :, 0]  # P(G|S=s, D=d)\n",
        "        )\n",
        "        # Ajout de la contribution pour chaque combinaison de S et D\n",
        "        answer_o += np.squeeze(prob_g)\n",
        "\n",
        "# Normalisation\n",
        "answer_o /= np.sum(answer_o)\n",
        "\n",
        "print(f\"Pr(G|do(L=l1))={answer_o}\")"
      ]
    },
    {
      "cell_type": "markdown",
      "metadata": {
        "id": "Ac48SDKS1x8p"
      },
      "source": [
        "p) $Pr(G=1|L=l^1)$"
      ]
    },
    {
      "cell_type": "code",
      "execution_count": 37,
      "metadata": {
        "colab": {
          "base_uri": "https://localhost:8080/"
        },
        "id": "8dNsTqjJ11P3",
        "outputId": "1d805013-b107-4099-e291-b0725ce0b789"
      },
      "outputs": [
        {
          "output_type": "stream",
          "name": "stdout",
          "text": [
            "Pr(G=1|L=l1)=0.13789900505510608\n"
          ]
        }
      ],
      "source": [
        "answer_p = 0  # Pour Pr(G = g1 | L = l1)\n",
        "numerator_p = 0  # Numérateur : Pr(G = g1, L = l1)\n",
        "denominator_p = 0  # Dénominateur : Pr(L = l1)\n",
        "\n",
        "for s in range(2):  # S = {s0, s1}\n",
        "    for d in range(2):  # D = {d0, d1}\n",
        "        # Numérateur : Pr(G = g1, L = l1)\n",
        "        prob_g_l = (\n",
        "            Pr_S[s, 0, 0, 0, 0] *           # P(S = s)\n",
        "            Pr_D[0, d, 0, 0, 0] *           # P(D = d)\n",
        "            Pr_G_given_SD[s, d, 0, 1, 0] *  # P(G = g1 | S = s, D = d)\n",
        "            Pr_L_given_G[0, 0, 0, 1, 1]     # P(L = l1 | G = g1)\n",
        "        )\n",
        "        numerator_p += prob_g_l\n",
        "\n",
        "        # Dénominateur : Pr(L = l1)\n",
        "        for g in range(3):  # G = {g0, g1, g2}\n",
        "            prob_l = (\n",
        "                Pr_S[s, 0, 0, 0, 0] *           # P(S = s)\n",
        "                Pr_D[0, d, 0, 0, 0] *           # P(D = d)\n",
        "                Pr_G_given_SD[s, d, 0, g, 0] *  # P(G = g | S = s, D = d)\n",
        "                Pr_L_given_G[0, 0, 0, g, 1]     # P(L = l1 | G = g)\n",
        "            )\n",
        "            denominator_p += prob_l\n",
        "\n",
        "# Calcul final : Pr(G = g1 | L = l1)\n",
        "answer_p = numerator_p / denominator_p\n",
        "\n",
        "print(f\"Pr(G=1|L=l1)={answer_p}\")"
      ]
    },
    {
      "cell_type": "code",
      "source": [
        "print(f\"a) Pr(G)={answer_a}\")\n",
        "print(f\"b) Pr(G|R=r1)={answer_b}\")\n",
        "print(f\"c) Pr(G|R=r0)={answer_c}\")\n",
        "print(f\"d) Pr(G|R=r1, S=s0)={answer_d}\")\n",
        "print(f\"e) Pr(G|R=r0, S=s0)={answer_e}\")\n",
        "print(f\"f) Pr(R|D=d1)={answer_f}\")\n",
        "print(f\"g) Pr(R|D=d0)={answer_g}\")\n",
        "print(f\"h) Pr(R|D=d1, G=g2)={answer_h}\")\n",
        "print(f\"i) Pr(R|D=d0, G=g2)={answer_i}\")\n",
        "print(f\"j) Pr(R|D=d1, L=l1)={answer_j}\")\n",
        "print(f\"k) Pr(R|D=d0, L=l1)={answer_k}\")\n",
        "print(f\"l) Pr(R|do(G=g2))={answer_l}\")\n",
        "print(f\"m) Pr(R|G=g2)={answer_m}\")\n",
        "print(f\"n) Pr(R)={answer_n}\")\n",
        "print(f\"o) Pr(G|do(L=l1))={answer_o}\")\n",
        "print(f\"p) Pr(G=1|L=l1)={answer_p}\")"
      ],
      "metadata": {
        "colab": {
          "base_uri": "https://localhost:8080/"
        },
        "id": "SRmfvelyruKX",
        "outputId": "2356eae4-8b82-40b3-a2a7-4c896c059a6f"
      },
      "execution_count": 38,
      "outputs": [
        {
          "output_type": "stream",
          "name": "stdout",
          "text": [
            "a) Pr(G)=[0.204  0.2316 0.5644]\n",
            "b) Pr(G|R=r1)=[0.13273 0.22176 0.64552]\n",
            "c) Pr(G|R=r0)=[0.34235 0.25071 0.40694]\n",
            "d) Pr(G|R=r1, S=s0)=[0.54  0.278 0.182]\n",
            "e) Pr(G|R=r0, S=s0)=[0.54  0.278 0.182]\n",
            "f) Pr(R|D=d1)=[0.34 0.66]\n",
            "g) Pr(R|D=d0)=[0.34 0.66]\n",
            "h) Pr(R|D=d1, G=g2)=[0.21148 0.78852]\n",
            "i) Pr(R|D=d0, G=g2)=[0.24667 0.75333]\n",
            "j) Pr(R|D=d1, L=l1)=[0.2475 0.7525]\n",
            "k) Pr(R|D=d0, L=l1)=[0.2736 0.7264]\n",
            "l) Pr(R|do(G=g2))=[0.13273 0.22176 0.64552]\n",
            "m) Pr(R|G=g2)=[0.24515 0.75485]\n",
            "n) Pr(R)=[0.34 0.66]\n",
            "o) Pr(G|do(L=l1))=[0.204  0.2316 0.5644]\n",
            "p) Pr(G=1|L=l1)=0.13789900505510608\n"
          ]
        }
      ]
    },
    {
      "cell_type": "markdown",
      "metadata": {
        "id": "cpoOrxiaHV43"
      },
      "source": [
        "**Réponse:**\n",
        "\n",
        "Les résultats montrent une différence clé entre observation et causalité. Le calcul non interventionnel reflète une corrélation où les influences amont restent intactes, tandis que l’intervention coupe ces dépendances pour révéler l’impact direct d’une variable sur une autre.\n",
        "\n",
        "Par exemple, fixer la note d’un étudiant sans tenir compte de sa préparation (S) et de ses difficultés (D) modifie ses chances de réussite à l’entretien (R), indiquant que ces facteurs influencent réellement R. Ainsi, une corrélation forte entre deux variables ne signifie pas forcément une relation causale.\n",
        "\n",
        "L’approche interventionnelle permet donc d’identifier les véritables leviers d’action, essentiels pour la prise de décision en milieu incertain."
      ]
    },
    {
      "cell_type": "markdown",
      "metadata": {
        "id": "fqfqhDoL5CfA"
      },
      "source": [
        "# Partie 2 (20 points)"
      ]
    },
    {
      "cell_type": "markdown",
      "metadata": {
        "id": "ZjIVlyRq5CjA"
      },
      "source": [
        "## Objectif\n",
        "\n",
        "L’objectif de la partie 2 du travail pratique est de permettre à l’étudiant de se familiariser avec l’apprentissage automatique via la régression logistique. Nous allons donc résoudre un problème de classification d'images en utilisant l’approche de descente du gradient (gradient descent) pour optimiser la log-vraisemblance négative (negative log-likelihood) comme fonction de perte.\n",
        "\n",
        "L'algorithme à implémenter est une variation de descente de gradient qui s’appelle l’algorithme de descente de gradient stochastique par mini-ensemble (mini-batch stochastic gradient descent).  Votre objectif est d’écrire un programme en Python pour optimiser les paramètres d’un modèle étant donné un ensemble de données d’apprentissage, en utilisant un ensemble de validation pour déterminer quand arrêter l'optimisation, et finalement de montrer la performance sur l’ensemble du test."
      ]
    },
    {
      "cell_type": "markdown",
      "metadata": {
        "id": "vFxYYRQJ5Cnb"
      },
      "source": [
        "## Théorie: la régression logistique et le calcul du gradient\n",
        "\n",
        "\n",
        "Il est possible d’encoder l’information concernant l’étiquetage avec des vecteurs multinomiaux (one-hot vectors), c.-à-d. un vecteur de zéros avec un seul 1 pour indiquer quand la classe $C=k$ dans la dimension $k$. Par exemple, le vecteur $\\mathbf{y}=[0, 1, 0, \\cdots, 0]^T$ représente la deuxième classe. Les caractéristiques (features) sont données par des vecteurs $\\mathbf{x}_i \\in \\mathbb{R}^{D}$. En définissant les paramètres de notre modèle comme : $\\mathbf{W}=[\\mathbf{w}_1, \\cdots, \\mathbf{w}_K]^T$ et $\\mathbf{b}=[b_1, b_2, \\cdots  b_K]^T$ et la fonction softmax comme fonction de sortie, on peut exprimer notre modèle sous la forme :\n",
        "\\begin{eqnarray}\n",
        "    p(\\mathbf{y}|\\mathbf{x})\n",
        "    &=& \\frac{\\exp(\\mathbf{y}^T \\mathbf{W} \\mathbf{x} + \\mathbf{y}^T \\mathbf{b})}{\\sum_{\\mathbf{y}_k \\in \\mathscr{Y}} \\exp(\\mathbf{y}_k^T \\mathbf{W} \\mathbf{x} + \\mathbf{y}_k^T \\mathbf{b})}\n",
        "\\end{eqnarray}\n",
        "L'ensemble de données consiste de $n$ paires (label, input) de la forme $\\mathscr{D}:=(\\mathbf{\\tilde{y}}_i, \\mathbf{\\tilde{x}}_i)_{i=1}^n$, où nous utilisons l'astuce de redéfinir $\\mathbf{\\tilde{x}}_i = [\\mathbf{\\tilde{x}}_i^T 1]^T$ et nous redéfinissions la matrice de paramètres $\\boldsymbol{\\theta} \\in \\mathbb{R}^{K\\times(D+1)}$ (voir des notes de cours pour la relation entre $\\boldsymbol{\\theta}$ et $\\mathbf{W}$). Notre fonction de perte, la log-vraisemblance négative des données selon notre modèle est définie comme:\n",
        "\\begin{equation}\n",
        "    \\mathscr{L}\\big( \\boldsymbol{\\theta}, \\mathscr{D} \\big) := -\\log \\prod_{i=1}^N P(\\mathbf{\\tilde{y}}_i|\\mathbf{\\tilde{x}}_i; \\boldsymbol{\\theta})\n",
        "\\end{equation}\n",
        "Pour cette partie du TP, nous avons calculé pour vous le gradient de la fonction de perte par rapport par rapport aux paramètres du modèle:\n",
        "\\begin{eqnarray}\n",
        "    \\frac{\\partial}{\\partial \\boldsymbol{\\theta}} \\mathscr{L}\\big( \\boldsymbol{\\theta}, \\mathscr{D} \\big)\n",
        "    &=& -\\sum_{i=1}^N \\frac{\\partial}{\\partial \\boldsymbol{\\theta}} \\Bigg\\{\\log \\Bigg(\\frac{\\exp(\\mathbf{\\tilde{y}}_i^T \\boldsymbol{\\theta} \\mathbf{\\tilde{x}}_i)}{\\sum_{\\mathbf{y}_k \\in \\mathscr{Y}} \\exp(\\mathbf{y}_k^T \\boldsymbol{\\theta} \\mathbf{\\tilde{x}}_i)} \\Bigg) \\Bigg\\} \\\\\n",
        "    &=& -\\sum_{i=1}^N \\left(\\mathbf{\\tilde{y}}_i \\mathbf{\\tilde{x}}^T_i- \\sum_{\\mathbf{y}_k \\in \\mathscr{Y}} P(\\mathbf{y}_k|\\mathbf{\\tilde{x}}_i,\\boldsymbol{\\theta}) \\mathbf{y}_k \\mathbf{\\tilde{x}}^T_i \\right) \\\\\n",
        "    &=& \\sum_{i=1}^N \\mathbf{\\hat{p}}_i \\mathbf{\\tilde{x}}^T_i - \\sum_{i=1}^N \\mathbf{\\tilde{y}}_i \\mathbf{\\tilde{x}}^T_i\n",
        "\\end{eqnarray}\n",
        "où $\\mathbf{\\hat{p}}_i$ est un vecteur de probabilités produit par le modèle pour l'exemple $\\mathbf{\\tilde{x}}_i$ et $\\mathbf{\\tilde{y}}_i$ est le vrai *label* pour ce même exemple.\n",
        "\n",
        "Finalement, il reste à discuter de l'évaluation du modèle. Pour la tâche d'intérêt, qui est une instance du problème de classification, il existe plusieurs métriques pour mesurer les performances du modèle la précision de classification, l'erreur de classification, le taux de faux/vrai positifs/négatifs, etc. Habituellement dans le contexte de l'apprentissage automatique, la précision est la plus commune.\n",
        "\n",
        "La précision est définie comme le rapport du nombre d'échantillons bien classés sur le nombre total d'échantillons à classer:\n",
        "$$\n",
        "\\tau_{acc} := \\frac{|\\mathscr{C}|}{|\\mathscr{D}|}\n",
        "$$\n",
        "où l'ensemble des échantillons bien classés $\\mathscr{C}$ est:\n",
        "$$\n",
        "\\mathscr{C} := \\lbrace (\\mathbf{x}, \\mathbf{y}) \\in \\mathscr{D} \\, | \\, \\underset{k}{\\arg\\max} \\, \\, P(\\cdot|\\mathbf{\\tilde{x}}_i; \\boldsymbol{\\theta})_k = \\underset{k}{\\arg\\max} \\, \\, \\tilde{y}_{i,k} \\rbrace\n",
        "$$\n",
        "En mots, il s'agit du sous-ensemble d'échantillons pour lesquels la classe la plus probable selon notre modèle correspond à la vraie classe."
      ]
    },
    {
      "cell_type": "markdown",
      "metadata": {
        "id": "Ffr5uSLRzkkY"
      },
      "source": []
    },
    {
      "cell_type": "markdown",
      "metadata": {
        "id": "x3wjjnIDGHZj"
      },
      "source": [
        "## Description des tâches\n",
        "\n",
        "#### 1. Code à compléter\n",
        "\n",
        "On vous demande de compléter l'extrait de code ci-dessous pour résoudre ce problème. Vous devez utiliser la librairie PyTorch cette partie du TP: https://pytorch.org/docs/stable/index.html. Mettez à jour les paramètres de votre modèle avec la descente par *mini-batch*. Exécutez des expériences avec trois différents ensembles: un ensemble d’apprentissages avec 90\\% des exemples (choisis au hasard), un ensemble de validation avec 10\\%. Utilisez uniquement l'ensemble de test pour obtenir votre meilleur résultat une fois que vous pensez avoir obtenu votre meilleure stratégie pour entraîner le modèle.\n",
        "\n",
        "#### 2. Rapport à rédiger\n",
        "\n",
        "Présentez vos résultats dans un rapport. Ce rapport devrait inclure:\n",
        "\n",
        "- **Recherche d'hyperparamètres:** Faites une recherche d'hyperparamètres pour différents taux d'apprentissage, e.g. 0.1, 0.01, 0.001, et différentes tailles de mini-batch, e.g. 1, 20, 200, 1000 pour des modèles entrainés avec SGD. Présentez dans un tableau la précision finale du modèle, sur l'*ensemble de validation*, pour ces différentes combinaisons d'hyperparamètres.\n",
        "\n",
        "- **Analyse du meilleur modèle:** Pour votre meilleur modèle, présentez deux figures montrant la progression de son apprentissage sur l'*ensembe d'entrainement et l'ensemble de validation*. La première figure montrant les courbes de log-vraisemblance négative moyenne après chaque epoch, la deuxième montrant la précision du modèle après chaque epoch. Finalement donnez la précision finale sur l'ensemble de test.\n",
        "\n",
        "- **Lire l'article de recherche -\n",
        "Adam**: a method for stochastic optimization. Kingma, D., \\& Ba, J. (2015). International Conference on Learning Representation (ICLR).\n",
        "https://arxiv.org/pdf/1412.6980.pdf. Implémentez Adam, répétez les deux étapes précédentes (recherche d'hyperparamètres et analyse du meilleur modèle) cette fois en utilisat Adam, et comparez les performances finales avec votre meilleur modèle SGD.\n",
        "\n",
        "**IMPORTANT**\n",
        "\n",
        "L'objectif du TP est de vous faire implémenter la rétropropagation à la main. **Il est donc interdit d'utiliser les capacités de construction de modèles ou de différentiation automatique de pytorch -- par exemple, aucun appels à torch.nn, torch.autograd ou à la méthode .backward().** L'objectif est d'implémenter un modèle de classification logistique ainsi que son entainement en utilisant uniquement des opérations matricielles de base fournies par PyTorch e.g. torch.sum(), torch.matmul(), etc."
      ]
    },
    {
      "cell_type": "markdown",
      "metadata": {
        "id": "oQq0nDgZuMfs"
      },
      "source": [
        "## Fonctions fournies"
      ]
    },
    {
      "cell_type": "code",
      "execution_count": 9,
      "metadata": {
        "id": "-U_jhXT_0Cbs"
      },
      "outputs": [],
      "source": [
        "# fonctions pour charger les ensembles de donnees\n",
        "from torchvision.datasets import FashionMNIST\n",
        "from torchvision import transforms\n",
        "import torch\n",
        "from torch.utils.data import DataLoader, random_split\n",
        "from tqdm import tqdm\n",
        "import matplotlib.pyplot as plt\n",
        "\n",
        "def get_fashion_mnist_dataloaders(val_percentage=0.1, batch_size=1):\n",
        "  dataset = FashionMNIST(\"./dataset\", train=True,  download=True, transform=transforms.Compose([transforms.ToTensor()]))\n",
        "  dataset_test = FashionMNIST(\"./dataset\", train=False,  download=True, transform=transforms.Compose([transforms.ToTensor()]))\n",
        "  len_train = int(len(dataset) * (1.-val_percentage))\n",
        "  len_val = len(dataset) - len_train\n",
        "  dataset_train, dataset_val = random_split(dataset, [len_train, len_val])\n",
        "  data_loader_train = DataLoader(dataset_train, batch_size=batch_size,shuffle=True,num_workers=4)\n",
        "  data_loader_val   = DataLoader(dataset_val, batch_size=batch_size,shuffle=True,num_workers=4)\n",
        "  data_loader_test  = DataLoader(dataset_test, batch_size=batch_size,shuffle=True,num_workers=4)\n",
        "  return data_loader_train, data_loader_val, data_loader_test\n",
        "\n",
        "def reshape_input(x, y):\n",
        "    x = x.view(-1, 784)\n",
        "    y = torch.FloatTensor(len(y), 10).zero_().scatter_(1,y.view(-1,1),1)\n",
        "    return x, y\n",
        "\n",
        "\n",
        "# call this once first to download the datasets\n",
        "_ = get_fashion_mnist_dataloaders()"
      ]
    },
    {
      "cell_type": "code",
      "execution_count": 10,
      "metadata": {
        "id": "9H5BnbgAOpio"
      },
      "outputs": [],
      "source": [
        "# simple logger to track progress during training\n",
        "class Logger:\n",
        "    def __init__(self):\n",
        "        self.losses_train = []\n",
        "        self.losses_valid = []\n",
        "        self.accuracies_train = []\n",
        "        self.accuracies_valid = []\n",
        "\n",
        "    def log(self, accuracy_train=0, loss_train=0, accuracy_valid=0, loss_valid=0):\n",
        "        self.losses_train.append(loss_train)\n",
        "        self.accuracies_train.append(accuracy_train)\n",
        "        self.losses_valid.append(loss_valid)\n",
        "        self.accuracies_valid.append(accuracy_valid)\n",
        "\n",
        "    def plot_loss_and_accuracy(self, train=True, valid=True):\n",
        "\n",
        "        assert train and valid, \"Cannot plot accuracy because neither train nor valid.\"\n",
        "\n",
        "        figure, (ax1, ax2) = plt.subplots(nrows=1, ncols=2,\n",
        "                                            figsize=(12, 6))\n",
        "\n",
        "        if train:\n",
        "            ax1.plot(self.losses_train, label=\"Training\")\n",
        "            ax2.plot(self.accuracies_train, label=\"Training\")\n",
        "        if valid:\n",
        "            ax1.plot(self.losses_valid, label=\"Validation\")\n",
        "            ax1.set_title(\"CrossEntropy Loss\")\n",
        "            ax2.plot(self.accuracies_valid, label=\"Validation\")\n",
        "            ax2.set_title(\"Accuracy\")\n",
        "\n",
        "        for ax in figure.axes:\n",
        "            ax.set_xlabel(\"Epoch\")\n",
        "            ax.legend(loc='best')\n",
        "            ax.set_axisbelow(True)\n",
        "            ax.minorticks_on()\n",
        "            ax.grid(True, which=\"major\", linestyle='-')\n",
        "            ax.grid(True, which=\"minor\", linestyle='--', color='lightgrey', alpha=.4)\n",
        "\n",
        "    def print_last(self):\n",
        "        print(f\"Epoch {len(self.losses_train):2d}, \\\n",
        "                Train:loss={self.losses_train[-1]:.3f}, accuracy={self.accuracies_train[-1]*100:.1f}%, \\\n",
        "                Valid: loss={self.losses_valid[-1]:.3f}, accuracy={self.losses_valid[-1]*100:.1f}%\", flush=True)"
      ]
    },
    {
      "cell_type": "markdown",
      "metadata": {
        "id": "vAJ5iiRUZw3f"
      },
      "source": [
        "## Aperçu de l'ensemble de données FashionMnist"
      ]
    },
    {
      "cell_type": "code",
      "execution_count": 11,
      "metadata": {
        "colab": {
          "base_uri": "https://localhost:8080/",
          "height": 380
        },
        "id": "fK-eNmc8Zv2d",
        "outputId": "2e2dbdf1-9321-416c-e7b1-e4a05866ba86"
      },
      "outputs": [
        {
          "output_type": "display_data",
          "data": {
            "text/plain": [
              "<Figure size 750x400 with 10 Axes>"
            ],
            "image/png": "[encoded data removed]"
          },
          "metadata": {}
        }
      ],
      "source": [
        "def plot_samples():\n",
        "  a, _, _ = get_fashion_mnist_dataloaders()\n",
        "  num_row = 2\n",
        "  num_col = 5# plot images\n",
        "  num_images = num_row * num_col\n",
        "  fig, axes = plt.subplots(num_row, num_col, figsize=(1.5*num_col,2*num_row))\n",
        "  for i, (x,y) in enumerate(a):\n",
        "      if i >= num_images:\n",
        "        break\n",
        "      ax = axes[i//num_col, i%num_col]\n",
        "      x = (x.numpy().squeeze() * 255).astype(int)\n",
        "      y = y.numpy()[0]\n",
        "      ax.imshow(x, cmap='gray')\n",
        "      ax.set_title(f\"Label: {y}\")\n",
        "\n",
        "  plt.tight_layout()\n",
        "  plt.show()\n",
        "plot_samples()"
      ]
    },
    {
      "cell_type": "markdown",
      "metadata": {
        "id": "EpZ8NK8_CAqW"
      },
      "source": [
        "## Fonctions à compléter"
      ]
    },
    {
      "cell_type": "code",
      "execution_count": 12,
      "metadata": {
        "id": "VSc19WnyQsFv"
      },
      "outputs": [],
      "source": [
        "def accuracy(y, y_pred) :\n",
        "    # todo : nombre d'éléments à classifier.\n",
        "    card_D = y.shape[0]\n",
        "\n",
        "    # les classes prédites (indice de la probabilité maximale)\n",
        "    pred_classes = torch.argmax(y_pred, dim=1)\n",
        "\n",
        "    # les classes réelles (indice du '1' dans le one-hot vector)\n",
        "    true_classes = torch.argmax(y, dim=1)\n",
        "\n",
        "    # todo : calcul du nombre d'éléments bien classifiés.\n",
        "    card_C = torch.sum(pred_classes == true_classes).item()\n",
        "\n",
        "    # todo : calcul de la précision de classification.\n",
        "    acc = card_C / card_D\n",
        "\n",
        "    return acc, (card_C, card_D)\n",
        "\n",
        "def accuracy_and_loss_whole_dataset(data_loader, model):\n",
        "    cardinal = 0\n",
        "    loss     = 0.\n",
        "    n_accurate_preds  = 0.\n",
        "\n",
        "    for x, y in data_loader:\n",
        "        x, y = reshape_input(x, y)\n",
        "        y_pred                = model.forward(x)\n",
        "        xentrp                = cross_entropy(y, y_pred)\n",
        "        _, (n_acc, n_samples) = accuracy(y, y_pred)\n",
        "\n",
        "        cardinal = cardinal + n_samples\n",
        "        loss     = loss + xentrp\n",
        "        n_accurate_preds  = n_accurate_preds + n_acc\n",
        "\n",
        "    loss = loss / float(cardinal)\n",
        "    acc  = n_accurate_preds / float(cardinal)\n",
        "\n",
        "    return acc, loss\n",
        "\n",
        "def cross_entropy(y, y_pred):\n",
        "    # todo : calcul de la valeur d'entropie croisée.\n",
        "    epsilon = 1e-12\n",
        "    y_pred = torch.clamp(y_pred, epsilon, 1.0 - epsilon)\n",
        "    loss = -torch.sum(y * torch.log(y_pred), dim=-1).mean()\n",
        "    return loss\n",
        "\n",
        "def softmax(x, axis=-1):\n",
        "    # assurez vous que la fonction est numeriquement stable\n",
        "    # e.g. softmax(torch.tensor([[1000, 10000, 100000]]))\n",
        "\n",
        "    # todo : calcul des valeurs de softmax(x)\n",
        "    x_max, _ = torch.max(x, dim=axis, keepdim=True)\n",
        "\n",
        "    # Soustraction du maximum pour la stabilité numérique\n",
        "    exp_x = torch.exp(x - x_max)\n",
        "\n",
        "    # Normalisation par la somme des exponentielles\n",
        "    values = exp_x / torch.sum(exp_x, dim=axis, keepdim=True)\n",
        "    return values\n",
        "\n",
        "def inputs_tilde(x, axis=-1):\n",
        "    # augments the inputs `x` with ones along `axis`\n",
        "    # todo : implémenter code ici.\n",
        "    ones=torch.ones(x.shape[0],1, device=x.device) # Colonne de 1 de taille batch_size x 1\n",
        "\n",
        "    return torch.cat((x, ones), dim=axis)"
      ]
    },
    {
      "cell_type": "code",
      "execution_count": 13,
      "metadata": {
        "id": "ya7J-i89GHnp"
      },
      "outputs": [],
      "source": [
        "class LinearModel:\n",
        "    def __init__(self, num_features, num_classes):\n",
        "      self.params = torch.normal(0, 0.01, (num_features + 1, num_classes))\n",
        "\n",
        "      self.t = 0\n",
        "      self.m_t = 0 # pour Adam: moyennes mobiles du gradient\n",
        "      self.v_t = 0 # pour Adam: moyennes mobiles du carré du gradient\n",
        "\n",
        "    def forward(self, x):\n",
        "      # todo : implémenter calcul des outputs en fonction des inputs `x`.\n",
        "      inputs = inputs_tilde(x)\n",
        "      outputs = inputs @ self.params\n",
        "      return softmax(outputs)\n",
        "\n",
        "    def get_grads(self, y, y_pred, X):\n",
        "      # todo : implémenter calcul des gradients.\n",
        "      inputs=inputs_tilde(X)\n",
        "      grads = torch.matmul(inputs.T, (y_pred - y)) / y.size(0)\n",
        "      return grads\n",
        "\n",
        "    def sgd_update(self, lr, grads):\n",
        "      # TODO : implémenter mise à jour des paramètres ici.\n",
        "      self.params -=lr*grads\n",
        "\n",
        "\n",
        "    def adam_update(self, lr, grads):\n",
        "      # TODO : implémenter mise à jour des paramètres ici.\n",
        "      beta1=0.9\n",
        "      beta2=0.999\n",
        "      epsilon=1e-8\n",
        "\n",
        "      self.t += 1 # Incrémentation du compteur d'itérations\n",
        "\n",
        "      # Moyennes mobiles des gradients et de leurs carrés\n",
        "      self.m_t = beta1 * self.m_t + (1 - beta1) * grads\n",
        "      self.v_t = beta2 * self.v_t + (1 - beta2) * (grads ** 2)\n",
        "\n",
        "      # Correction des biais des moyennes mobiles\n",
        "      m_t_corrected = self.m_t / (1 - beta1 ** self.t)\n",
        "      v_t_corrected = self.v_t / (1 - beta2 ** self.t)\n",
        "\n",
        "      # Mise à jour des paramètres avec Adam\n",
        "      self.params -= lr * m_t_corrected / (torch.sqrt(v_t_corrected) + epsilon)\n",
        "\n",
        "\n",
        "def train(model, lr=0.1, nb_epochs=10, sgd=True, data_loader_train=None, data_loader_val=None):\n",
        "    best_model = None\n",
        "    best_val_accuracy = 0\n",
        "    logger = Logger()\n",
        "\n",
        "    for epoch in range(nb_epochs+1):\n",
        "        # at epoch 0 evaluate random initial model\n",
        "        #   then for subsequent epochs, do optimize before evaluation.\n",
        "        if epoch > 0:\n",
        "          for x, y in data_loader_train:\n",
        "              x, y = reshape_input(x, y)\n",
        "              y_pred = model.forward(x)\n",
        "              loss = cross_entropy(y, y_pred)\n",
        "              grads = model.get_grads(y, y_pred, x)\n",
        "              if sgd:\n",
        "                model.sgd_update(lr, grads)\n",
        "              else:\n",
        "                model.adam_update(lr, grads)\n",
        "\n",
        "        accuracy_train, loss_train = accuracy_and_loss_whole_dataset(data_loader_train, model)\n",
        "        accuracy_val, loss_val = accuracy_and_loss_whole_dataset(data_loader_val, model)\n",
        "\n",
        "        if accuracy_val > best_val_accuracy:\n",
        "          best_val_accuracy = accuracy_val\n",
        "          best_accuracy=accuracy_train\n",
        "          best_model = model\n",
        "   # TODO : record the best model parameters and best validation accuracy\n",
        "\n",
        "        logger.log(accuracy_train, loss_train, accuracy_val, loss_val)\n",
        "        print(\n",
        "            f\"Epoch {epoch:2d}, Train: loss={loss_train:.3f}, accuracy={accuracy_train * 100:.1f}%, \"\n",
        "            f\"Valid: loss={loss_val:.3f}, accuracy={accuracy_val * 100:.1f}%\",\n",
        "            flush=True,\n",
        "        )\n",
        "\n",
        "    return best_model, best_val_accuracy, logger\n"
      ]
    },
    {
      "cell_type": "markdown",
      "metadata": {
        "id": "_zUGBmtf9pcA"
      },
      "source": [
        "## Évaluation"
      ]
    },
    {
      "cell_type": "markdown",
      "metadata": {
        "id": "eUuU5n979pcD"
      },
      "source": [
        "### SGD: Recherche d'hyperparamètres"
      ]
    },
    {
      "cell_type": "code",
      "execution_count": 14,
      "metadata": {
        "colab": {
          "base_uri": "https://localhost:8080/"
        },
        "id": "4R_6Rxgq9pcE",
        "outputId": "e3ecc6e3-d548-4ed9-d38f-9c0b4d9421e5"
      },
      "outputs": [
        {
          "output_type": "stream",
          "name": "stdout",
          "text": [
            "------------------------------------------------------------------\n",
            "Training model with a learning rate of 0.1 and a batch size of 1\n",
            "Epoch  0, Train: loss=2.311, accuracy=5.1%, Valid: loss=2.312, accuracy=5.0%\n",
            "Epoch  1, Train: loss=2.956, accuracy=78.7%, Valid: loss=3.117, accuracy=77.6%\n",
            "Epoch  2, Train: loss=2.334, accuracy=82.2%, Valid: loss=2.527, accuracy=81.4%\n",
            "Epoch  3, Train: loss=3.795, accuracy=75.9%, Valid: loss=4.105, accuracy=74.0%\n",
            "Epoch  4, Train: loss=1.992, accuracy=84.2%, Valid: loss=2.228, accuracy=83.1%\n",
            "Epoch  5, Train: loss=1.703, accuracy=85.3%, Valid: loss=1.998, accuracy=83.7%\n",
            "validation accuracy = 83.700\n",
            "------------------------------------------------------------------\n",
            "Training model with a learning rate of 0.1 and a batch size of 20\n",
            "Epoch  0, Train: loss=0.117, accuracy=4.2%, Valid: loss=0.117, accuracy=4.2%\n",
            "Epoch  1, Train: loss=0.023, accuracy=84.5%, Valid: loss=0.024, accuracy=84.1%\n",
            "Epoch  2, Train: loss=0.023, accuracy=84.5%, Valid: loss=0.025, accuracy=84.0%\n",
            "Epoch  3, Train: loss=0.024, accuracy=83.0%, Valid: loss=0.025, accuracy=81.8%\n",
            "Epoch  4, Train: loss=0.024, accuracy=83.9%, Valid: loss=0.026, accuracy=83.6%\n",
            "Epoch  5, Train: loss=0.024, accuracy=83.5%, Valid: loss=0.026, accuracy=82.3%\n",
            "validation accuracy = 84.100\n",
            "------------------------------------------------------------------\n",
            "Training model with a learning rate of 0.1 and a batch size of 200\n",
            "Epoch  0, Train: loss=0.012, accuracy=17.3%, Valid: loss=0.012, accuracy=17.5%\n",
            "Epoch  1, Train: loss=0.003, accuracy=81.1%, Valid: loss=0.003, accuracy=80.1%\n",
            "Epoch  2, Train: loss=0.003, accuracy=82.5%, Valid: loss=0.003, accuracy=81.5%\n",
            "Epoch  3, Train: loss=0.002, accuracy=83.4%, Valid: loss=0.003, accuracy=82.0%\n",
            "Epoch  4, Train: loss=0.002, accuracy=84.0%, Valid: loss=0.002, accuracy=83.0%\n",
            "Epoch  5, Train: loss=0.002, accuracy=84.0%, Valid: loss=0.002, accuracy=82.7%\n",
            "validation accuracy = 82.967\n",
            "------------------------------------------------------------------\n",
            "Training model with a learning rate of 0.1 and a batch size of 1000\n",
            "Epoch  0, Train: loss=0.002, accuracy=9.9%, Valid: loss=0.002, accuracy=8.5%\n",
            "Epoch  1, Train: loss=0.001, accuracy=73.0%, Valid: loss=0.001, accuracy=72.1%\n",
            "Epoch  2, Train: loss=0.001, accuracy=77.5%, Valid: loss=0.001, accuracy=77.0%\n",
            "Epoch  3, Train: loss=0.001, accuracy=79.6%, Valid: loss=0.001, accuracy=78.8%\n",
            "Epoch  4, Train: loss=0.001, accuracy=80.4%, Valid: loss=0.001, accuracy=79.7%\n",
            "Epoch  5, Train: loss=0.001, accuracy=81.2%, Valid: loss=0.001, accuracy=80.8%\n",
            "validation accuracy = 80.750\n",
            "------------------------------------------------------------------\n",
            "Training model with a learning rate of 0.01 and a batch size of 1\n",
            "Epoch  0, Train: loss=2.313, accuracy=7.2%, Valid: loss=2.312, accuracy=7.0%\n",
            "Epoch  1, Train: loss=0.518, accuracy=83.9%, Valid: loss=0.531, accuracy=83.4%\n",
            "Epoch  2, Train: loss=0.618, accuracy=81.2%, Valid: loss=0.629, accuracy=81.3%\n",
            "Epoch  3, Train: loss=0.448, accuracy=84.8%, Valid: loss=0.474, accuracy=83.8%\n",
            "Epoch  4, Train: loss=0.535, accuracy=83.2%, Valid: loss=0.567, accuracy=82.3%\n",
            "Epoch  5, Train: loss=0.757, accuracy=79.7%, Valid: loss=0.815, accuracy=78.7%\n",
            "validation accuracy = 83.800\n",
            "------------------------------------------------------------------\n",
            "Training model with a learning rate of 0.01 and a batch size of 20\n",
            "Epoch  0, Train: loss=0.116, accuracy=7.5%, Valid: loss=0.116, accuracy=7.2%\n",
            "Epoch  1, Train: loss=0.030, accuracy=80.9%, Valid: loss=0.029, accuracy=81.8%\n",
            "Epoch  2, Train: loss=0.026, accuracy=82.5%, Valid: loss=0.026, accuracy=83.4%\n",
            "Epoch  3, Train: loss=0.025, accuracy=83.5%, Valid: loss=0.024, accuracy=84.2%\n",
            "Epoch  4, Train: loss=0.025, accuracy=83.0%, Valid: loss=0.024, accuracy=83.5%\n",
            "Epoch  5, Train: loss=0.023, accuracy=84.3%, Valid: loss=0.023, accuracy=84.7%\n",
            "validation accuracy = 84.650\n",
            "------------------------------------------------------------------\n",
            "Training model with a learning rate of 0.01 and a batch size of 200\n",
            "Epoch  0, Train: loss=0.012, accuracy=4.8%, Valid: loss=0.012, accuracy=4.7%\n",
            "Epoch  1, Train: loss=0.005, accuracy=69.8%, Valid: loss=0.005, accuracy=69.7%\n",
            "Epoch  2, Train: loss=0.004, accuracy=74.3%, Valid: loss=0.004, accuracy=74.2%\n",
            "Epoch  3, Train: loss=0.004, accuracy=76.9%, Valid: loss=0.004, accuracy=76.9%\n",
            "Epoch  4, Train: loss=0.003, accuracy=78.1%, Valid: loss=0.003, accuracy=77.9%\n",
            "Epoch  5, Train: loss=0.003, accuracy=79.1%, Valid: loss=0.003, accuracy=79.0%\n",
            "validation accuracy = 79.000\n",
            "------------------------------------------------------------------\n",
            "Training model with a learning rate of 0.01 and a batch size of 1000\n",
            "Epoch  0, Train: loss=0.002, accuracy=6.7%, Valid: loss=0.002, accuracy=6.9%\n",
            "Epoch  1, Train: loss=0.002, accuracy=65.1%, Valid: loss=0.002, accuracy=65.9%\n",
            "Epoch  2, Train: loss=0.001, accuracy=66.6%, Valid: loss=0.001, accuracy=67.1%\n",
            "Epoch  3, Train: loss=0.001, accuracy=67.7%, Valid: loss=0.001, accuracy=68.1%\n",
            "Epoch  4, Train: loss=0.001, accuracy=68.7%, Valid: loss=0.001, accuracy=69.2%\n",
            "Epoch  5, Train: loss=0.001, accuracy=69.9%, Valid: loss=0.001, accuracy=70.2%\n",
            "validation accuracy = 70.200\n",
            "------------------------------------------------------------------\n",
            "Training model with a learning rate of 0.001 and a batch size of 1\n",
            "Epoch  0, Train: loss=2.285, accuracy=14.1%, Valid: loss=2.285, accuracy=14.1%\n",
            "Epoch  1, Train: loss=0.526, accuracy=82.6%, Valid: loss=0.533, accuracy=82.9%\n",
            "Epoch  2, Train: loss=0.491, accuracy=83.4%, Valid: loss=0.506, accuracy=83.4%\n",
            "Epoch  3, Train: loss=0.461, accuracy=84.3%, Valid: loss=0.474, accuracy=84.0%\n",
            "Epoch  4, Train: loss=0.442, accuracy=85.1%, Valid: loss=0.461, accuracy=85.0%\n",
            "Epoch  5, Train: loss=0.443, accuracy=84.5%, Valid: loss=0.461, accuracy=84.3%\n",
            "validation accuracy = 85.033\n",
            "------------------------------------------------------------------\n",
            "Training model with a learning rate of 0.001 and a batch size of 20\n",
            "Epoch  0, Train: loss=0.115, accuracy=10.3%, Valid: loss=0.115, accuracy=10.5%\n",
            "Epoch  1, Train: loss=0.049, accuracy=69.6%, Valid: loss=0.050, accuracy=69.2%\n",
            "Epoch  2, Train: loss=0.041, accuracy=74.4%, Valid: loss=0.042, accuracy=74.2%\n",
            "Epoch  3, Train: loss=0.037, accuracy=76.7%, Valid: loss=0.038, accuracy=76.4%\n",
            "Epoch  4, Train: loss=0.035, accuracy=78.0%, Valid: loss=0.036, accuracy=77.5%\n",
            "Epoch  5, Train: loss=0.033, accuracy=79.1%, Valid: loss=0.034, accuracy=78.8%\n",
            "validation accuracy = 78.767\n",
            "------------------------------------------------------------------\n",
            "Training model with a learning rate of 0.001 and a batch size of 200\n",
            "Epoch  0, Train: loss=0.012, accuracy=8.3%, Valid: loss=0.012, accuracy=9.4%\n",
            "Epoch  1, Train: loss=0.009, accuracy=65.0%, Valid: loss=0.009, accuracy=65.1%\n",
            "Epoch  2, Train: loss=0.008, accuracy=66.7%, Valid: loss=0.008, accuracy=66.8%\n",
            "Epoch  3, Train: loss=0.007, accuracy=67.0%, Valid: loss=0.007, accuracy=67.1%\n",
            "Epoch  4, Train: loss=0.006, accuracy=67.1%, Valid: loss=0.006, accuracy=67.3%\n",
            "Epoch  5, Train: loss=0.006, accuracy=67.5%, Valid: loss=0.006, accuracy=67.8%\n",
            "validation accuracy = 67.817\n",
            "------------------------------------------------------------------\n",
            "Training model with a learning rate of 0.001 and a batch size of 1000\n",
            "Epoch  0, Train: loss=0.002, accuracy=3.0%, Valid: loss=0.002, accuracy=3.0%\n",
            "Epoch  1, Train: loss=0.002, accuracy=25.1%, Valid: loss=0.002, accuracy=24.8%\n",
            "Epoch  2, Train: loss=0.002, accuracy=46.7%, Valid: loss=0.002, accuracy=46.8%\n",
            "Epoch  3, Train: loss=0.002, accuracy=55.3%, Valid: loss=0.002, accuracy=54.9%\n",
            "Epoch  4, Train: loss=0.002, accuracy=59.4%, Valid: loss=0.002, accuracy=58.8%\n",
            "Epoch  5, Train: loss=0.002, accuracy=61.7%, Valid: loss=0.002, accuracy=61.1%\n",
            "validation accuracy = 61.100\n"
          ]
        }
      ],
      "source": [
        "# SGD\n",
        "# Montrez les résultats pour différents taux d'apprentissage, e.g. 0.1, 0.01, 0.001, et différentes tailles de mini-batch, e.g. 1, 20, 200, 1000.\n",
        "batch_size_list = [1, 20, 200, 1000]   # Define ranges in a list\n",
        "lr_list = [0.1, 0.01, 0.001]           # Define ranges in a list du taux d'apprentissage\n",
        "\n",
        "with torch.no_grad():\n",
        "  for lr in lr_list:\n",
        "    for batch_size in batch_size_list:\n",
        "      print(\"------------------------------------------------------------------\")\n",
        "      print(\"Training model with a learning rate of {0} and a batch size of {1}\".format(lr, batch_size))\n",
        "      data_loader_train, data_loader_val, data_loader_test = get_fashion_mnist_dataloaders(val_percentage=0.1, batch_size=batch_size)\n",
        "\n",
        "      model = LinearModel(num_features=784, num_classes=10)\n",
        "      _, val_accuracy, _ = train(model,lr=lr, nb_epochs=5, sgd=True, data_loader_train=data_loader_train, data_loader_val=data_loader_val)\n",
        "      print(f\"validation accuracy = {val_accuracy*100:.3f}\")"
      ]
    },
    {
      "cell_type": "markdown",
      "metadata": {
        "id": "AmvtxoLo9pcF"
      },
      "source": [
        "#### **Tableau pour la précision sur l'ensemble de validation**\n",
        "N.B. que les lignes correspondent aux valeurs du taux d'apprentisage et les colonnes correspondent au valeur du batch size. Les valeurs ci-dessous sont donné comme exemples; remplacez-les par les valeurs que vous avez utilisées pour votre recherche d'hyperparamètres.\n",
        "\n",
        "learning rate\\batch_size  | 1 | 20 | 200 | 1000\n",
        "-------------------|------------------|------------------|------------------|------------------|\n",
        "**0.1**   | 83.70  | 84.10 | 82.96 | 80.72 | - |\n",
        "**0.01** | 83.80  | 84.65 | 79.00 | 70.20 | - |\n",
        "**0.001**  | 85.03  | 78.76 | 67.81 | 61.10 | - |"
      ]
    },
    {
      "cell_type": "markdown",
      "metadata": {
        "id": "8PvrqlWt9pcG"
      },
      "source": [
        "### SGD: Analyse du meilleur modèle"
      ]
    },
    {
      "cell_type": "code",
      "execution_count": 15,
      "metadata": {
        "id": "uQ8Vc8JM9pcG",
        "colab": {
          "base_uri": "https://localhost:8080/",
          "height": 755
        },
        "outputId": "dbcabc3a-cc43-469c-b4bf-c6ab2f84ce67"
      },
      "outputs": [
        {
          "output_type": "stream",
          "name": "stdout",
          "text": [
            "Epoch  0, Train: loss=2.309, accuracy=8.2%, Valid: loss=2.308, accuracy=8.2%\n",
            "Epoch  1, Train: loss=0.530, accuracy=82.3%, Valid: loss=0.513, accuracy=83.4%\n",
            "Epoch  2, Train: loss=0.484, accuracy=83.9%, Valid: loss=0.468, accuracy=84.6%\n",
            "Epoch  3, Train: loss=0.460, accuracy=84.5%, Valid: loss=0.446, accuracy=84.9%\n",
            "Epoch  4, Train: loss=0.464, accuracy=83.7%, Valid: loss=0.451, accuracy=84.5%\n",
            "Epoch  5, Train: loss=0.439, accuracy=85.0%, Valid: loss=0.429, accuracy=85.7%\n",
            "Best validation accuracy = 85.650\n",
            "Evaluation of the best training model over test set\n",
            "------\n",
            "Loss : 0.475\n",
            "Accuracy : 83.550\n"
          ]
        },
        {
          "output_type": "display_data",
          "data": {
            "text/plain": [
              "<Figure size 1200x600 with 2 Axes>"
            ],
            "image/png": "[encoded data removed]"
          },
          "metadata": {}
        }
      ],
      "source": [
        "# SGD\n",
        "# Montrez les résultats pour la meilleure configuration trouvez ci-dessus.\n",
        "batch_size = 1 # TODO: Vous devez modifier cette valeur avec la meilleur que vous avez eu.\n",
        "lr = 0.001         # TODO: Vous devez modifier cette valeur avec la meilleur que vous avez eu.\n",
        "\n",
        "with torch.no_grad():\n",
        "  data_loader_train, data_loader_val, data_loader_test = get_fashion_mnist_dataloaders(val_percentage=0.1, batch_size=batch_size)\n",
        "\n",
        "  model = LinearModel(num_features=784, num_classes=10)\n",
        "  best_model, best_val_accuracy, logger = train(model,lr=lr, nb_epochs=5, sgd=True,\n",
        "                                                data_loader_train=data_loader_train, data_loader_val=data_loader_val)\n",
        "  logger.plot_loss_and_accuracy()\n",
        "  print(f\"Best validation accuracy = {best_val_accuracy*100:.3f}\")\n",
        "\n",
        "  accuracy_test, loss_test = accuracy_and_loss_whole_dataset(data_loader_test, best_model)\n",
        "print(\"Evaluation of the best training model over test set\")\n",
        "print(\"------\")\n",
        "print(f\"Loss : {loss_test:.3f}\")\n",
        "print(f\"Accuracy : {accuracy_test*100.:.3f}\")"
      ]
    },
    {
      "cell_type": "markdown",
      "metadata": {
        "id": "BOZXfA919pcH"
      },
      "source": [
        "### Adam: Recherche d'hyperparamètres\n",
        "\n",
        "Implémentez Adam, répétez les deux étapes précédentes (recherche d'hyperparamètres et analyse du meilleur modèle) cette fois en utilisat Adam, et comparez les performances finales avec votre meilleur modèle SGD."
      ]
    },
    {
      "cell_type": "code",
      "execution_count": 16,
      "metadata": {
        "id": "Ze9D0Zpi9pcI",
        "colab": {
          "base_uri": "https://localhost:8080/"
        },
        "outputId": "5e092e27-e62c-4d38-835d-20e6b1ab306a"
      },
      "outputs": [
        {
          "output_type": "stream",
          "name": "stdout",
          "text": [
            "------------------------------------------------------------------\n",
            "Training model with a learning rate of 0.1 and a batch size of 1\n",
            "Epoch  0, Train: loss=2.297, accuracy=12.3%, Valid: loss=2.297, accuracy=12.0%\n",
            "Epoch  1, Train: loss=4.878, accuracy=79.8%, Valid: loss=5.193, accuracy=78.6%\n",
            "Epoch  2, Train: loss=5.475, accuracy=78.5%, Valid: loss=5.732, accuracy=77.7%\n",
            "Epoch  3, Train: loss=5.339, accuracy=79.1%, Valid: loss=5.562, accuracy=78.5%\n",
            "Epoch  4, Train: loss=6.355, accuracy=75.1%, Valid: loss=6.850, accuracy=73.6%\n",
            "Epoch  5, Train: loss=3.935, accuracy=84.0%, Valid: loss=4.283, accuracy=83.0%\n",
            "validation accuracy = 82.967\n",
            "------------------------------------------------------------------\n",
            "Training model with a learning rate of 0.1 and a batch size of 20\n",
            "Epoch  0, Train: loss=0.117, accuracy=2.9%, Valid: loss=0.117, accuracy=3.1%\n",
            "Epoch  1, Train: loss=0.193, accuracy=77.7%, Valid: loss=0.201, accuracy=76.9%\n",
            "Epoch  2, Train: loss=0.148, accuracy=80.8%, Valid: loss=0.162, accuracy=79.4%\n",
            "Epoch  3, Train: loss=0.141, accuracy=81.7%, Valid: loss=0.155, accuracy=80.8%\n",
            "Epoch  4, Train: loss=0.133, accuracy=82.7%, Valid: loss=0.152, accuracy=81.1%\n",
            "Epoch  5, Train: loss=0.211, accuracy=77.9%, Valid: loss=0.221, accuracy=76.7%\n",
            "validation accuracy = 81.133\n",
            "------------------------------------------------------------------\n",
            "Training model with a learning rate of 0.1 and a batch size of 200\n",
            "Epoch  0, Train: loss=0.012, accuracy=3.3%, Valid: loss=0.012, accuracy=3.6%\n",
            "Epoch  1, Train: loss=0.004, accuracy=80.8%, Valid: loss=0.005, accuracy=80.6%\n",
            "Epoch  2, Train: loss=0.004, accuracy=81.8%, Valid: loss=0.005, accuracy=81.0%\n",
            "Epoch  3, Train: loss=0.005, accuracy=80.8%, Valid: loss=0.005, accuracy=79.8%\n",
            "Epoch  4, Train: loss=0.006, accuracy=77.0%, Valid: loss=0.007, accuracy=76.4%\n",
            "Epoch  5, Train: loss=0.005, accuracy=81.7%, Valid: loss=0.006, accuracy=80.9%\n",
            "validation accuracy = 81.017\n",
            "------------------------------------------------------------------\n",
            "Training model with a learning rate of 0.1 and a batch size of 1000\n",
            "Epoch  0, Train: loss=0.002, accuracy=9.7%, Valid: loss=0.002, accuracy=9.7%\n",
            "Epoch  1, Train: loss=0.001, accuracy=81.7%, Valid: loss=0.001, accuracy=81.4%\n",
            "Epoch  2, Train: loss=0.001, accuracy=82.8%, Valid: loss=0.001, accuracy=82.1%\n",
            "Epoch  3, Train: loss=0.000, accuracy=84.7%, Valid: loss=0.000, accuracy=83.5%\n",
            "Epoch  4, Train: loss=0.001, accuracy=83.9%, Valid: loss=0.001, accuracy=82.5%\n",
            "Epoch  5, Train: loss=0.001, accuracy=81.7%, Valid: loss=0.001, accuracy=80.2%\n",
            "validation accuracy = 83.483\n",
            "------------------------------------------------------------------\n",
            "Training model with a learning rate of 0.01 and a batch size of 1\n",
            "Epoch  0, Train: loss=2.319, accuracy=4.8%, Valid: loss=2.320, accuracy=4.8%\n",
            "Epoch  1, Train: loss=2.611, accuracy=76.1%, Valid: loss=2.719, accuracy=75.0%\n",
            "Epoch  2, Train: loss=1.421, accuracy=84.9%, Valid: loss=1.631, accuracy=83.5%\n",
            "Epoch  3, Train: loss=2.131, accuracy=78.7%, Valid: loss=2.484, accuracy=76.7%\n",
            "Epoch  4, Train: loss=2.727, accuracy=80.9%, Valid: loss=2.926, accuracy=80.2%\n",
            "Epoch  5, Train: loss=2.133, accuracy=81.6%, Valid: loss=2.380, accuracy=80.0%\n",
            "validation accuracy = 83.467\n",
            "------------------------------------------------------------------\n",
            "Training model with a learning rate of 0.01 and a batch size of 20\n",
            "Epoch  0, Train: loss=0.117, accuracy=2.0%, Valid: loss=0.117, accuracy=2.2%\n",
            "Epoch  1, Train: loss=0.035, accuracy=81.3%, Valid: loss=0.036, accuracy=81.0%\n",
            "Epoch  2, Train: loss=0.027, accuracy=83.9%, Valid: loss=0.030, accuracy=82.5%\n",
            "Epoch  3, Train: loss=0.027, accuracy=84.2%, Valid: loss=0.030, accuracy=83.1%\n",
            "Epoch  4, Train: loss=0.030, accuracy=83.3%, Valid: loss=0.034, accuracy=82.2%\n",
            "Epoch  5, Train: loss=0.034, accuracy=82.1%, Valid: loss=0.040, accuracy=80.8%\n",
            "validation accuracy = 83.133\n",
            "------------------------------------------------------------------\n",
            "Training model with a learning rate of 0.01 and a batch size of 200\n",
            "Epoch  0, Train: loss=0.012, accuracy=9.7%, Valid: loss=0.012, accuracy=9.7%\n",
            "Epoch  1, Train: loss=0.002, accuracy=84.4%, Valid: loss=0.002, accuracy=83.7%\n",
            "Epoch  2, Train: loss=0.002, accuracy=85.2%, Valid: loss=0.002, accuracy=84.8%\n",
            "Epoch  3, Train: loss=0.002, accuracy=84.6%, Valid: loss=0.002, accuracy=84.3%\n",
            "Epoch  4, Train: loss=0.002, accuracy=85.3%, Valid: loss=0.002, accuracy=84.0%\n",
            "Epoch  5, Train: loss=0.002, accuracy=85.4%, Valid: loss=0.002, accuracy=84.1%\n",
            "validation accuracy = 84.783\n",
            "------------------------------------------------------------------\n",
            "Training model with a learning rate of 0.01 and a batch size of 1000\n",
            "Epoch  0, Train: loss=0.002, accuracy=14.5%, Valid: loss=0.002, accuracy=14.5%\n",
            "Epoch  1, Train: loss=0.001, accuracy=81.4%, Valid: loss=0.001, accuracy=81.5%\n",
            "Epoch  2, Train: loss=0.000, accuracy=84.0%, Valid: loss=0.000, accuracy=84.4%\n",
            "Epoch  3, Train: loss=0.000, accuracy=84.9%, Valid: loss=0.000, accuracy=84.7%\n",
            "Epoch  4, Train: loss=0.000, accuracy=84.7%, Valid: loss=0.000, accuracy=84.1%\n",
            "Epoch  5, Train: loss=0.000, accuracy=85.6%, Valid: loss=0.000, accuracy=84.8%\n",
            "validation accuracy = 84.767\n",
            "------------------------------------------------------------------\n",
            "Training model with a learning rate of 0.001 and a batch size of 1\n",
            "Epoch  0, Train: loss=2.321, accuracy=3.5%, Valid: loss=2.325, accuracy=3.5%\n",
            "Epoch  1, Train: loss=0.468, accuracy=84.3%, Valid: loss=0.474, accuracy=83.9%\n",
            "Epoch  2, Train: loss=0.474, accuracy=85.0%, Valid: loss=0.497, accuracy=84.5%\n",
            "Epoch  3, Train: loss=0.427, accuracy=86.0%, Valid: loss=0.467, accuracy=85.1%\n",
            "Epoch  4, Train: loss=0.583, accuracy=82.7%, Valid: loss=0.620, accuracy=82.2%\n",
            "Epoch  5, Train: loss=0.418, accuracy=86.4%, Valid: loss=0.461, accuracy=85.4%\n",
            "validation accuracy = 85.417\n",
            "------------------------------------------------------------------\n",
            "Training model with a learning rate of 0.001 and a batch size of 20\n",
            "Epoch  0, Train: loss=0.116, accuracy=5.9%, Valid: loss=0.116, accuracy=5.4%\n",
            "Epoch  1, Train: loss=0.024, accuracy=83.4%, Valid: loss=0.024, accuracy=83.0%\n",
            "Epoch  2, Train: loss=0.022, accuracy=85.0%, Valid: loss=0.022, accuracy=84.6%\n",
            "Epoch  3, Train: loss=0.021, accuracy=85.9%, Valid: loss=0.020, accuracy=85.5%\n",
            "Epoch  4, Train: loss=0.020, accuracy=85.9%, Valid: loss=0.020, accuracy=85.0%\n",
            "Epoch  5, Train: loss=0.020, accuracy=86.3%, Valid: loss=0.020, accuracy=85.3%\n",
            "validation accuracy = 85.450\n",
            "------------------------------------------------------------------\n",
            "Training model with a learning rate of 0.001 and a batch size of 200\n",
            "Epoch  0, Train: loss=0.012, accuracy=8.0%, Valid: loss=0.012, accuracy=7.5%\n",
            "Epoch  1, Train: loss=0.003, accuracy=80.7%, Valid: loss=0.003, accuracy=80.6%\n",
            "Epoch  2, Train: loss=0.003, accuracy=83.0%, Valid: loss=0.003, accuracy=82.8%\n",
            "Epoch  3, Train: loss=0.002, accuracy=84.1%, Valid: loss=0.002, accuracy=83.4%\n",
            "Epoch  4, Train: loss=0.002, accuracy=84.2%, Valid: loss=0.002, accuracy=83.8%\n",
            "Epoch  5, Train: loss=0.002, accuracy=85.2%, Valid: loss=0.002, accuracy=84.3%\n",
            "validation accuracy = 84.333\n",
            "------------------------------------------------------------------\n",
            "Training model with a learning rate of 0.001 and a batch size of 1000\n",
            "Epoch  0, Train: loss=0.002, accuracy=6.0%, Valid: loss=0.002, accuracy=6.0%\n",
            "Epoch  1, Train: loss=0.001, accuracy=72.6%, Valid: loss=0.001, accuracy=72.3%\n",
            "Epoch  2, Train: loss=0.001, accuracy=78.0%, Valid: loss=0.001, accuracy=77.5%\n",
            "Epoch  3, Train: loss=0.001, accuracy=80.0%, Valid: loss=0.001, accuracy=79.8%\n",
            "Epoch  4, Train: loss=0.001, accuracy=80.9%, Valid: loss=0.001, accuracy=80.8%\n",
            "Epoch  5, Train: loss=0.001, accuracy=82.0%, Valid: loss=0.001, accuracy=81.7%\n",
            "validation accuracy = 81.683\n"
          ]
        }
      ],
      "source": [
        "# ADAM\n",
        "# Montrez les résultats pour différents taux d'apprentissage, e.g. 0.1, 0.01, 0.001, et différentes tailles de mini-batch, e.g. 1, 20, 200, 1000.\n",
        "batch_size_list = [1, 20, 200, 1000]   # Define ranges in a list\n",
        "lr_list = [0.1, 0.01, 0.001]           # Define ranges in a list\n",
        "\n",
        "with torch.no_grad():\n",
        "  for lr in lr_list:\n",
        "    for batch_size in batch_size_list:\n",
        "      print(\"------------------------------------------------------------------\")\n",
        "      print(\"Training model with a learning rate of {0} and a batch size of {1}\".format(lr, batch_size))\n",
        "      data_loader_train, data_loader_val, data_loader_test = get_fashion_mnist_dataloaders(val_percentage=0.1, batch_size=batch_size)\n",
        "\n",
        "      model = LinearModel(num_features=784, num_classes=10)\n",
        "      _, val_accuracy, _ = train(model,lr=lr, nb_epochs=5, sgd=False, data_loader_train=data_loader_train, data_loader_val=data_loader_val)\n",
        "      print(f\"validation accuracy = {val_accuracy*100:.3f}\")"
      ]
    },
    {
      "cell_type": "markdown",
      "metadata": {
        "id": "Cr9_MzpX_CvO"
      },
      "source": [
        "#### **Tableau pour la précision sur l'ensemble de validation**\n",
        "N.B. que les lignes correspondent aux valeurs du taux d'apprentisage et les colonnes correspondent au valeur du batch size. Les valeurs ci-dessous sont donné comme exemples; remplacez-les par les valeurs que vous avez utilisées pour votre recherche d'hyperparamètres.\n",
        "\n",
        "learning rate\\batch_size  | 1 | 20 | 200 | 1000\n",
        "-------------------|------------------|------------------|------------------|------------------|\n",
        "**0.1**   | 82.96  | 81.13 | 81.01 | 83.48 | - |\n",
        "**0.01** | 83.46  | 83.13 | 83.78 | 84.76 | - |\n",
        "**0.001**  | 85.41  | 85.45 | 84.33 | 81.68 | - |"
      ]
    },
    {
      "cell_type": "markdown",
      "metadata": {
        "id": "2Me7IOblUrYw"
      },
      "source": [
        "### Adam: Analyse du meilleur modèle"
      ]
    },
    {
      "cell_type": "code",
      "execution_count": 18,
      "metadata": {
        "id": "Ndf_GP6XPV-U",
        "colab": {
          "base_uri": "https://localhost:8080/",
          "height": 755
        },
        "outputId": "ce3d0f94-aac0-441f-ece3-1b260106ea1f"
      },
      "outputs": [
        {
          "output_type": "stream",
          "name": "stdout",
          "text": [
            "Epoch  0, Train: loss=0.117, accuracy=6.6%, Valid: loss=0.117, accuracy=6.5%\n",
            "Epoch  1, Train: loss=0.024, accuracy=83.7%, Valid: loss=0.025, accuracy=82.9%\n",
            "Epoch  2, Train: loss=0.022, accuracy=84.8%, Valid: loss=0.023, accuracy=84.1%\n",
            "Epoch  3, Train: loss=0.021, accuracy=85.8%, Valid: loss=0.022, accuracy=85.1%\n",
            "Epoch  4, Train: loss=0.021, accuracy=85.4%, Valid: loss=0.023, accuracy=84.4%\n",
            "Epoch  5, Train: loss=0.020, accuracy=86.1%, Valid: loss=0.022, accuracy=85.1%\n",
            "Best validation accuracy = 85.133\n",
            "Evaluation of the best training model over test set\n",
            "------\n",
            "Loss : 0.023\n",
            "Accuracy : 83.880\n"
          ]
        },
        {
          "output_type": "display_data",
          "data": {
            "text/plain": [
              "<Figure size 1200x600 with 2 Axes>"
            ],
            "image/png": "[encoded data removed]"
          },
          "metadata": {}
        }
      ],
      "source": [
        "# ADAM\n",
        "# Montrez les résultats pour la meilleure configuration trouvez ci-dessus.\n",
        "batch_size = 20 # TODO: Vous devez modifier cette valeur avec la meilleur que vous avez eu.\n",
        "lr = 0.001         # TODO: Vous devez modifier cette valeur avec la meilleur que vous avez eu.\n",
        "\n",
        "with torch.no_grad():\n",
        "  data_loader_train, data_loader_val, data_loader_test = get_fashion_mnist_dataloaders(val_percentage=0.1, batch_size=batch_size)\n",
        "\n",
        "  model = LinearModel(num_features=784, num_classes=10)\n",
        "  best_model, best_val_accuracy, logger = train(model,lr=lr, nb_epochs=5, sgd=False,\n",
        "                                                data_loader_train=data_loader_train, data_loader_val=data_loader_val)\n",
        "  logger.plot_loss_and_accuracy()\n",
        "  print(f\"Best validation accuracy = {best_val_accuracy*100:.3f}\")\n",
        "\n",
        "  accuracy_test, loss_test = accuracy_and_loss_whole_dataset(data_loader_test, best_model)\n",
        "print(\"Evaluation of the best training model over test set\")\n",
        "print(\"------\")\n",
        "print(f\"Loss : {loss_test:.3f}\")\n",
        "print(f\"Accuracy : {accuracy_test*100.:.3f}\")"
      ]
    },
    {
      "cell_type": "markdown",
      "metadata": {
        "id": "6LRkxtUD_RVd"
      },
      "source": [
        "### Analyse des Résultats"
      ]
    },
    {
      "cell_type": "markdown",
      "metadata": {
        "id": "8NIRJe-8_fbP"
      },
      "source": [
        "Répondez içi.L’analyse des résultats montre que l’optimisateur Adam converge plus rapidement que SGD, atteignant une précision en validation de 85.13% dès les premières époques, contre 85.65% pour SGD après plusieurs itérations. La perte finale avec Adam (0.023) est également beaucoup plus faible que celle de SGD (0.475), indiquant une meilleure optimisation du modèle. Cependant, la précision finale en test est légèrement plus élevée avec Adam (83.88%) comparé à SGD (83.55%), bien que la différence soit minime.\n",
        "\n",
        "SGD, bien réglé, peut parfois mieux généraliser, mais il est plus lent et nécessite un ajustement minutieux des hyperparamètres. Adam, en revanche, s’adapte dynamiquement aux gradients et ajuste automatiquement le taux d’apprentissage, ce qui lui permet d’atteindre une haute précision plus rapidement et avec une meilleure stabilité. La faible perte finale d’Adam (0.023) par rapport à SGD (0.475) démontre une convergence bien plus efficace. Dans ce cas, Adam s'impose clairement comme le meilleur choix, offrant une optimisation plus rapide et un modèle mieux ajusté sans nécessiter d’importants réglages manuels."
      ]
    },
    {
      "cell_type": "markdown",
      "metadata": {
        "id": "IficnxEMMcNo"
      },
      "source": [
        "# Partie 3 (20 points)\n",
        "\n",
        "Pour cette partie, vous pouvez travailler en groupes de 2, mais il faut écrire sa propre dérivation et soumettre son propre rapport. Si vous travaillez avec un partenaire, il faut indiquer leur nom dans votre rapport."
      ]
    },
    {
      "cell_type": "markdown",
      "metadata": {
        "id": "Zmb_putke8pl"
      },
      "source": [
        "### Problème"
      ]
    },
    {
      "cell_type": "markdown",
      "metadata": {
        "id": "CRioLmIDMcP8"
      },
      "source": [
        "![picture](https://drive.google.com/uc?id=17_N7pIrf5pypQKiUh5cM7SX6raZUBcJC)\n",
        "\n",
        "Considérons maintenant un réseau de neurones avec une couche d'entrée avec $D=784$ unités, $L$ couches cachées, chacune avec 300 unités et un vecteur de sortie $\\mathbf{y}$ de dimension $K$. Vous avez $i = 1, .., N$ exemples dans un ensemble d'apprentissage, où chaque ${\\bf x}_i \\in \\mathbb{R}^{784}$ est un vecteur de caractéristiques (features). $\\mathbf{y}$ est un vecteur du type *one-hot* -- un vecteur de zéros avec un seul 1 pour indiquer que la classe $C=k$ dans la dimension $k$. Par exemple, le vecteur $\\mathbf{y}=[0, 1, 0, \\cdots, 0]^T$ représente la deuxième classe. La fonction de perte est donnée par\n",
        "\\begin{equation}\n",
        "\\mathscr{L} = -\\sum_{i=1}^{N}\\sum_{k=1}^{K}y_{k,i}\\log (f_k( {\\bf x}_i )  )\n",
        "\\end{equation}\n",
        "\n",
        "La fonction d'activation de la couche finale a la forme  ${\\bf f} = [f_1, ..., f_K]$ donné par la fonction d'activation softmax:\n",
        "\\begin{equation}\n",
        "f_k( {\\bf a}^{(L+1)}({\\bf x}_i) ) = \\frac{\\exp(a_k^{(L+1)})}{\\sum_{c=1}^{K}\\exp(a_c^{(L+1)})}, \\;\\;\\;\\;\n",
        "\\nonumber\n",
        "\\end{equation}\n",
        "\n",
        "et les couches cachées utilisent une fonction d'activation de type ReLU:\n",
        "\\begin{equation}\n",
        "  {\\bf h}^{(l)}({\\bf a}^{(l)}({\\bf x}_i)) = \\text{ReLU}({\\bf a}^{(l)}({\\bf x}_i) = \\max\\Big(0, \\, \\, {\\bf a}^{(l)}({\\bf x}_i)\\Big)\n",
        "\\end{equation}\n",
        "\n",
        "où ${\\bf a}^{(l)}$ est le vecteur résultant du calcul de la préactivation habituelle ${\\bf a}^{(l)}={\\bf W}^{(l)}{\\bf h}^{(l-1)} + {\\bf b}^{(l)}$, qui pourrait être simplifiée à ${\\boldsymbol \\theta}^{(l)}\\tilde{\\bf h}^{(l-1)}$ en utilisant l'astuce de définir $\\tilde{\\bf h}$ comme ${\\bf h}$ avec un 1 concaténé à la fin du vecteur.\n",
        "\n"
      ]
    },
    {
      "cell_type": "markdown",
      "metadata": {
        "id": "PzMpz3Zse0t9"
      },
      "source": [
        "### Questions"
      ]
    },
    {
      "cell_type": "markdown",
      "metadata": {
        "id": "wK8gnygxMcSh"
      },
      "source": [
        "* a) (10 points) Donnez le pseudocode incluant des *calculs matriciels—vectoriels* détaillés pour l'algorithme de rétropropagation pour calculer le gradient pour les paramètres de chaque couche **étant donné un exemple d'entraînement**."
      ]
    },
    {
      "cell_type": "markdown",
      "metadata": {
        "id": "Y431_w4gMcX2"
      },
      "source": [
        "* b) (15 points)\n",
        "Implémentez l'optimisation basée sur le gradient de ce réseau en Pytorch.\n",
        "Utilisez le code squelette ci-dessous comme point de départ et implémentez les mathématiques de l'algorithme de rétropropagation que vous avez décrit à la question précédente. Comparez vos gradients et votre optimisation avec le même modèle optimisé avec Autograd. Lequel est le plus rapide ? Proposez quelques expériences. Utilisez encore l'ensemble de données de Fashion MNIST (voir Partie 2). **Comparez différents modèles ayant différentes largeurs (nombre d'unités) et profondeurs (nombre de couches)**. Ici encore, n'utilisez l'ensemble de test que pour votre expérience finale lorsque vous pensez avoir obtenu votre meilleur modèle.\n",
        "\n",
        "\n",
        "**IMPORTANT**\n",
        "\n",
        "L'objectif du TP est de vous faire implémenter la rétropropagation à la main. L'objectif est d'implémenter un modèle de classification logistique ainsi que son entainement en utilisant uniquement des opérations matricielles de base fournies par PyTorch e.g. torch.sum(), torch.matmul(), etc. **Une fois que vous avez implémenté votre modèle, vous devez le comparer avec un modèle construit en utilisant les capacités de pytorch qui permettent une différenciation automatique. Autrement dit, pour la deuxième implémentation, vous pouvez utilisertorch.nn, torch.autograd ou à la méthode .backward().** Vous pouvez utiliser l’implémentation de votre choix pour explorer différentes architectures de modèles."
      ]
    },
    {
      "cell_type": "markdown",
      "metadata": {
        "id": "F1mpuG2cwER-"
      },
      "source": [
        "## Votre pseudocode:"
      ]
    },
    {
      "cell_type": "markdown",
      "metadata": {
        "id": "qY2X9goYwMDs"
      },
      "source": [
        "#### Algorithme de rétropopagation dans un réseau de neurones pour un exemple $\\tilde{x}_i$:\n",
        "\n",
        "1. TODO\n",
        "2. TODO\n",
        "3. TODO..."
      ]
    },
    {
      "cell_type": "markdown",
      "metadata": {
        "id": "SIQJD-TRwEdo"
      },
      "source": [
        "## Fonctions à compléter"
      ]
    },
    {
      "cell_type": "code",
      "execution_count": null,
      "metadata": {
        "id": "JzIQ0S4qDPKJ"
      },
      "outputs": [],
      "source": [
        "''' Les fonctions dans cette cellule peuvent avoir les mêmes déclarations que celles de la partie 2'''\n",
        "def accuracy(y, y_pred) :\n",
        "    # todo : nombre d'éléments à classifier.\n",
        "    card_D = None\n",
        "\n",
        "    # todo : calcul du nombre d'éléments bien classifiés.\n",
        "    card_C = None\n",
        "    +\n",
        "    # todo : calcul de la précision de classification.\n",
        "    acc = None\n",
        "\n",
        "    return acc, (card_C, card_D)\n",
        "\n",
        "def accuracy_and_loss_whole_dataset(data_loader, model):\n",
        "    cardinal = 0\n",
        "    loss     = 0.\n",
        "    n_accurate_preds  = 0.\n",
        "\n",
        "    for x, y in data_loader:\n",
        "        x, y = reshape_input(x, y)\n",
        "        y_pred                = model.forward(x)\n",
        "        xentrp                = cross_entropy(y, y_pred)\n",
        "        _, (n_acc, n_samples) = accuracy(y, y_pred)\n",
        "\n",
        "        cardinal = cardinal + n_samples\n",
        "        loss     = loss + xentrp\n",
        "        n_accurate_preds  = n_accurate_preds + n_acc\n",
        "\n",
        "    loss = loss / float(cardinal)\n",
        "    acc  = n_accurate_preds / float(cardinal)\n",
        "\n",
        "    return acc, loss\n",
        "\n",
        "def inputs_tilde(x, axis=-1):\n",
        "    # augments the inputs `x` with ones along `axis`\n",
        "    # todo : implémenter code ici.\n",
        "    x_tilde = None\n",
        "    return x_tilde\n",
        "\n",
        "def softmax(x, axis=-1):\n",
        "    # assurez vous que la fonction est numeriquement stable\n",
        "    # e.g. softmax(np.array([1000, 10000, 100000], ndim=2))\n",
        "\n",
        "    # todo : calcul des valeurs de softmax(x)\n",
        "    values = None\n",
        "    return values\n",
        "\n",
        "def cross_entropy(y, y_pred):\n",
        "    # todo : calcul de la valeur d'entropie croisée.\n",
        "    loss = None\n",
        "    return loss\n",
        "\n",
        " def softmax_cross_entropy_backward(y, y_pred):\n",
        "     # todo : calcul de la valeur du gradient de l'entropie croisée composée avec `softmax`\n",
        "     values = None\n",
        "     return values\n",
        "\n",
        "def relu_forward(x):\n",
        "    # todo : calcul des valeurs de relu(x)\n",
        "    values = None\n",
        "    return values\n",
        "\n",
        "def relu_backward(x):\n",
        "    # todo : calcul des valeurs du gradient de la fonction `relu`\n",
        "    values = None\n",
        "    return values\n",
        "\n",
        "\n",
        "# Model est une classe representant votre reseaux de neuronnes\n",
        "class MLPModel:\n",
        "    def __init__(self, n_features, n_hidden_features, n_hidden_layers, n_classes):\n",
        "        self.n_features        = n_features\n",
        "        self.n_hidden_features = n_hidden_features\n",
        "        self.n_hidden_layers   = n_hidden_layers\n",
        "        self.n_classes         = n_classes\n",
        "\n",
        "        # todo : initialiser la liste des paramètres Teta de l'estimateur.\n",
        "        self.params = None\n",
        "        print(f\"Teta params={[p.shape for p in self.params]}\")\n",
        "\n",
        "        self.a = None # liste contenant le resultat des multiplications matricielles\n",
        "        self.h = None # liste contenant le resultat des fonctions d'activations\n",
        "\n",
        "        self.t = 0\n",
        "        self.m_t = 0 # pour Adam: moyennes mobiles du gradient\n",
        "        self.v_t = 0 # pour Adam: moyennes mobiles du carré du gradient\n",
        "\n",
        "    def forward(self, x):\n",
        "        # todo : implémenter calcul des outputs en fonction des inputs `x`.\n",
        "        outputs = None\n",
        "        return outputs\n",
        "\n",
        "    def backward(self, y, y_pred):\n",
        "        # todo : implémenter calcul des gradients.\n",
        "        grads = None\n",
        "        return grads\n",
        "\n",
        "    def sgd_update(self, lr, grads):\n",
        "        pass # TODO : implémenter mise à jour des paramètres ici.\n",
        "\n",
        "    def adam_update(self, lr, grads):\n",
        "        # TODO : implémenter mise à jour des paramètres ici.\n",
        "        pass\n",
        "\n",
        "def train(model, lr=0.1, nb_epochs=10, sgd=True, data_loader_train=None, data_loader_val=None):\n",
        "    best_model = None\n",
        "    best_val_accuracy = 0\n",
        "    logger = Logger()\n",
        "\n",
        "    for epoch in range(nb_epochs+1):\n",
        "\n",
        "        # at epoch 0 evaluate random initial model\n",
        "        #   then for subsequent epochs, do optimize before evaluation.\n",
        "        if epoch > 0:\n",
        "            for x, y in data_loader_train:\n",
        "                x, y = reshape_input(x, y)\n",
        "\n",
        "                y_pred = model.forward(x)\n",
        "                grads  = model.backward(y, y_pred)\n",
        "                if sgd:\n",
        "                  model.sgd_update(lr, grads)\n",
        "                else:\n",
        "                  model.adam_update(lr, grads)\n",
        "\n",
        "        accuracy_train, loss_train = accuracy_and_loss_whole_dataset(data_loader_train, model)\n",
        "        accuracy_val, loss_val = accuracy_and_loss_whole_dataset(data_loader_val, model)\n",
        "\n",
        "        if accuracy_val > best_val_accuracy:\n",
        "          pass   # TODO : record the best model parameters and best validation accuracy\n",
        "\n",
        "        logger.log(accuracy_train, loss_train, accuracy_val, loss_val)\n",
        "        print(f\"Epoch {epoch:2d}, \\\n",
        "                Train:loss={loss_train.item():.3f}, accuracy={accuracy_train.item()*100:.1f}%, \\\n",
        "                Valid: loss={loss_val.item():.3f}, accuracy={accuracy_val.item()*100:.1f}%\", flush=True)\n",
        "\n",
        "    return best_model, best_val_accuracy, logger"
      ]
    },
    {
      "cell_type": "markdown",
      "metadata": {
        "id": "tIe9DFvPwuQg"
      },
      "source": [
        "## Évaluation"
      ]
    },
    {
      "cell_type": "markdown",
      "metadata": {
        "id": "ml5jUvG9AUXK"
      },
      "source": [
        "### SGD: Recherche d'hyperparamètres"
      ]
    },
    {
      "cell_type": "code",
      "execution_count": null,
      "metadata": {
        "id": "fe7hyN63AUXL"
      },
      "outputs": [],
      "source": [
        "# SGD\n",
        "# Montrez les résultats pour différents nombre de couche, e.g. 1, 3, 5, et différent nombres de neurone, e.g. 25, 100, 300, 500, 1000.\n",
        "depth_list = None   # Define ranges in a list\n",
        "width_list = None   # Define ranges in a list\n",
        "lr = None           # Some value\n",
        "batch_size = None   # Some value\n",
        "\n",
        "with torch.no_grad():\n",
        "  for depth in depth_list:\n",
        "    for width in width_list:\n",
        "      print(\"------------------------------------------------------------------\")\n",
        "      print(\"Training model with a depth of {0} layers and a width of {1} units\".format(depth, width))\n",
        "      data_loader_train, data_loader_val, data_loader_test = get_fashion_mnist_dataloaders(val_percentage=0.1, batch_size=batch_size)\n",
        "\n",
        "      MLP_model = MLPModel(n_features=784, n_hidden_features=width, n_hidden_layers=depth, n_classes=10)\n",
        "      _, val_accuracy, _ = train(MLP_model,lr=lr, nb_epochs=5, sgd=True, data_loader_train=data_loader_train, data_loader_val=data_loader_val)\n",
        "      print(f\"validation accuracy = {val_accuracy*100:.3f}\")"
      ]
    },
    {
      "cell_type": "markdown",
      "metadata": {
        "id": "QnDMqFapAUXM"
      },
      "source": [
        "#### **Tableau pour la précision sur l'ensemble de validation**\n",
        "N.B. que les lignes correspondent aux nombre de couche et les colonnes correspondent au nombre de neurone dans chaque couche. Les valeurs ci-dessous sont donné comme exemples; remplacez-les par les valeurs que vous avez utilisées pour votre recherche d'hyperparamètres.\n",
        "\n",
        "depth\\width  | 25 | 100 | 300 | 500 | 1000\n",
        "-------------------|------------------|------------------|------------------|------------------|------------------|\n",
        "**1**   | -  | - | - | - | - |\n",
        "**3** | -  | - | - | - | - |\n",
        "**5**  | -  | - | - | - | - |"
      ]
    },
    {
      "cell_type": "markdown",
      "metadata": {
        "id": "2wuN-uw7AUXN"
      },
      "source": [
        "### SGD: Analyse du meilleur modèle"
      ]
    },
    {
      "cell_type": "code",
      "execution_count": null,
      "metadata": {
        "id": "CShZ3VB0AUXN"
      },
      "outputs": [],
      "source": [
        "# SGD\n",
        "# Montrez les résultats pour la meilleure configuration trouvez ci-dessus.\n",
        "depth = None    # TODO: Vous devez modifier cette valeur avec la meilleur que vous avez eu.\n",
        "width = None    # TODO: Vous devez modifier cette valeur avec la meilleur que vous avez eu.\n",
        "lr = None           # Some value\n",
        "batch_size = None   # Some value\n",
        "\n",
        "with torch.no_grad():\n",
        "  data_loader_train, data_loader_val, data_loader_test = get_fashion_mnist_dataloaders(val_percentage=0.1, batch_size=batch_size)\n",
        "\n",
        "  MLP_model = MLPModel(n_features=784, n_hidden_features=width, n_hidden_layers=depth, n_classes=10)\n",
        "  best_model, best_val_accuracy, logger = train(MLP_model,lr=lr, nb_epochs=5, sgd=True,\n",
        "                                                data_loader_train=data_loader_train, data_loader_val=data_loader_val)\n",
        "  logger.plot_loss_and_accuracy()\n",
        "  print(f\"Best validation accuracy = {best_val_accuracy*100:.3f}\")\n",
        "\n",
        "  accuracy_test, loss_test = accuracy_and_loss_whole_dataset(data_loader_test, best_model)\n",
        "print(\"Evaluation of the best training model over test set\")\n",
        "print(\"------\")\n",
        "print(f\"Loss : {loss_test:.3f}\")\n",
        "print(f\"Accuracy : {accuracy_test*100.:.3f}\")"
      ]
    },
    {
      "cell_type": "markdown",
      "metadata": {
        "id": "_tPLgZriAUXO"
      },
      "source": [
        "### Adam: Recherche d'hyperparamètres\n",
        "\n",
        "Implémentez Adam, répétez les deux étapes précédentes (recherche d'hyperparamètres et analyse du meilleur modèle) cette fois en utilisat Adam, et comparez les performances finales avec votre meilleur modèle SGD."
      ]
    },
    {
      "cell_type": "code",
      "execution_count": null,
      "metadata": {
        "id": "tEVOh1r7AUXO"
      },
      "outputs": [],
      "source": [
        "# ADAM\n",
        "# Montrez les résultats pour différents nombre de couche, e.g. 1, 3, 5, et différent nombres de neurone, e.g. 25, 100, 300, 500, 1000.\n",
        "depth_list = None   # Define ranges in a list\n",
        "width_list = None   # Define ranges in a list\n",
        "lr = None           # Some value\n",
        "batch_size = None   # Some value\n",
        "\n",
        "with torch.no_grad():\n",
        "  for depth in depth_list:\n",
        "    for width in width_list:\n",
        "      print(\"------------------------------------------------------------------\")\n",
        "      print(\"Training model with a depth of {0} layers and a width of {1} units\".format(depth, width))\n",
        "      data_loader_train, data_loader_val, data_loader_test = get_fashion_mnist_dataloaders(val_percentage=0.1, batch_size=batch_size)\n",
        "\n",
        "      MLP_model = MLPModel(n_features=784, n_hidden_features=width, n_hidden_layers=depth, n_classes=10)\n",
        "      _, val_accuracy, _ = train(MLP_model, lr=lr, nb_epochs=5, sgd=False, data_loader_train=data_loader_train, data_loader_val=data_loader_val)\n",
        "      print(f\"validation accuracy = {val_accuracy*100:.3f}\")"
      ]
    },
    {
      "cell_type": "markdown",
      "metadata": {
        "id": "6LQ6q18CAUXP"
      },
      "source": [
        "#### **Tableau pour la précision sur l'ensemble de validation**\n",
        "N.B. que les lignes correspondent aux nombre de couche et les colonnes correspondent au nombre de neurone dans chaque couche. Les valeurs ci-dessous sont donné comme exemples; remplacez-les par les valeurs que vous avez utilisées pour votre recherche d'hyperparamètres.\n",
        "\n",
        "depth\\width  | 25 | 100 | 300 | 500 | 1000\n",
        "-------------------|------------------|------------------|------------------|------------------|------------------|\n",
        "**1**   | -  | - | - | - | - |\n",
        "**3** | -  | - | - | - | - |\n",
        "**5**  | -  | - | - | - | - |"
      ]
    },
    {
      "cell_type": "markdown",
      "metadata": {
        "id": "df6Y9ziXAUXP"
      },
      "source": [
        "### Adam: Analyse du meilleur modèle"
      ]
    },
    {
      "cell_type": "code",
      "execution_count": null,
      "metadata": {
        "id": "uohnWTtoAUXP"
      },
      "outputs": [],
      "source": [
        "# ADAM\n",
        "# Montrez les résultats pour la meilleure configuration trouvez ci-dessus.\n",
        "depth = None    # TODO: Vous devez modifier cette valeur avec la meilleur que vous avez eu.\n",
        "width = None    # TODO: Vous devez modifier cette valeur avec la meilleur que vous avez eu.\n",
        "lr = None           # Some value\n",
        "batch_size = None   # Some value\n",
        "\n",
        "with torch.no_grad():\n",
        "  data_loader_train, data_loader_val, data_loader_test = get_fashion_mnist_dataloaders(val_percentage=0.1, batch_size=batch_size)\n",
        "\n",
        "  MLP_model = MLPModel(n_features=784, n_hidden_features=width, n_hidden_layers=depth, n_classes=10)\n",
        "  best_model, best_val_accuracy, logger = train(MLP_model,lr=lr, nb_epochs=5, sgd=False,\n",
        "                                                data_loader_train=data_loader_train, data_loader_val=data_loader_val)\n",
        "  logger.plot_loss_and_accuracy()\n",
        "  print(f\"Best validation accuracy = {best_val_accuracy*100:.3f}\")\n",
        "\n",
        "  accuracy_test, loss_test = accuracy_and_loss_whole_dataset(data_loader_test, best_model)\n",
        "print(\"Evaluation of the best training model over test set\")\n",
        "print(\"------\")\n",
        "print(f\"Loss : {loss_test:.3f}\")\n",
        "print(f\"Accuracy : {accuracy_test*100.:.3f}\")"
      ]
    },
    {
      "cell_type": "markdown",
      "metadata": {
        "id": "-wlDcZB-AUXP"
      },
      "source": [
        "### Analyse des Résultats"
      ]
    },
    {
      "cell_type": "markdown",
      "metadata": {
        "id": "M-Wi3CG3AUXP"
      },
      "source": [
        "Répondez içi..."
      ]
    }
  ],
  "metadata": {
    "colab": {
      "provenance": []
    },
    "kernelspec": {
      "display_name": "Python 3",
      "name": "python3"
    }
  },
  "nbformat": 4,
  "nbformat_minor": 0
}